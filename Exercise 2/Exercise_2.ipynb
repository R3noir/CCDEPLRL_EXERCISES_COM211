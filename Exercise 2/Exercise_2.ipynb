{
  "nbformat": 4,
  "nbformat_minor": 0,
  "metadata": {
    "colab": {
      "provenance": [],
      "include_colab_link": true
    },
    "kernelspec": {
      "name": "python3",
      "display_name": "Python 3"
    },
    "language_info": {
      "name": "python"
    }
  },
  "cells": [
    {
      "cell_type": "markdown",
      "metadata": {
        "id": "view-in-github",
        "colab_type": "text"
      },
      "source": [
        "<a href=\"https://colab.research.google.com/github/R3noir/CCDEPLRL_EXERCISES_COM211/blob/main/Exercise%202/Exercise_2.ipynb\" target=\"_parent\"><img src=\"https://colab.research.google.com/assets/colab-badge.svg\" alt=\"Open In Colab\"/></a>"
      ]
    },
    {
      "cell_type": "markdown",
      "source": [
        "# Exercise 2"
      ],
      "metadata": {
        "id": "tqFPmGbJ7Oah"
      }
    },
    {
      "cell_type": "markdown",
      "source": [
        "\n",
        "## Forward Pass and Backward Pass"
      ],
      "metadata": {
        "id": "cUkdx6a498S8"
      }
    },
    {
      "cell_type": "markdown",
      "source": [
        "<img src=\"https://github.com/robitussin/CCDEPLRL_EXERCISES/blob/main/images/exercise2.png?raw=true\"/>"
      ],
      "metadata": {
        "id": "0Q5Io34f-x38"
      }
    },
    {
      "cell_type": "markdown",
      "source": [
        "<img src=\"\"/>"
      ],
      "metadata": {
        "id": "-ZTBRmkM7JMR"
      }
    },
    {
      "cell_type": "markdown",
      "source": [
        "1. What is the predicted output? (`20 points`)"
      ],
      "metadata": {
        "id": "7HD5MNgg7hIu"
      }
    },
    {
      "cell_type": "code",
      "execution_count": 3,
      "metadata": {
        "id": "2cbutiml5cm_",
        "colab": {
          "base_uri": "https://localhost:8080/"
        },
        "outputId": "6ea72904-ec16-4b21-d11f-670524825356"
      },
      "outputs": [
        {
          "output_type": "stream",
          "name": "stdout",
          "text": [
            "4.0\n"
          ]
        }
      ],
      "source": [
        "# put your answer here\n",
        "z1 = 2.0\n",
        "w1 = 2.0\n",
        "y = 1\n",
        "z2 = w1 * z1\n",
        "\n",
        "print(z2)\n"
      ]
    },
    {
      "cell_type": "markdown",
      "source": [
        "2. Find the loss using the Mean Squared Error (MSE) function (`20 points`)"
      ],
      "metadata": {
        "id": "JTh2z2v97k0J"
      }
    },
    {
      "cell_type": "code",
      "source": [
        "# put your answer here\n",
        "C = (z2-y)**2\n",
        "\n",
        "print(C)"
      ],
      "metadata": {
        "id": "F2D7opAr7t3U",
        "colab": {
          "base_uri": "https://localhost:8080/"
        },
        "outputId": "828c5538-e27f-49da-cbd7-7a7676eb8046"
      },
      "execution_count": 7,
      "outputs": [
        {
          "output_type": "stream",
          "name": "stdout",
          "text": [
            "9.0\n"
          ]
        }
      ]
    },
    {
      "cell_type": "markdown",
      "source": [
        "3. What is the derivative of $z_{2}$ with respect to $w_{1}$? (`20 points`)"
      ],
      "metadata": {
        "id": "wz5D8wEl7wtT"
      }
    },
    {
      "cell_type": "code",
      "source": [
        "# put your answer here\n",
        "dz1w1 = z1\n",
        "\n",
        "print(dz1w1)"
      ],
      "metadata": {
        "id": "n8Q_9JJ57xFL",
        "colab": {
          "base_uri": "https://localhost:8080/"
        },
        "outputId": "3759b5fe-fe92-443c-a236-4c932d681206"
      },
      "execution_count": 8,
      "outputs": [
        {
          "output_type": "stream",
          "name": "stdout",
          "text": [
            "2.0\n"
          ]
        }
      ]
    },
    {
      "cell_type": "markdown",
      "source": [
        "4. What is the derivative of the loss with respect to $z_{2}$? (`20 points`)"
      ],
      "metadata": {
        "id": "HVpt0n-E9TIx"
      }
    },
    {
      "cell_type": "code",
      "source": [
        "# put your answer here\n",
        "dCz2 = 2*(z2-y)\n",
        "\n",
        "print(dCz2)"
      ],
      "metadata": {
        "id": "KM4fEL059grQ",
        "colab": {
          "base_uri": "https://localhost:8080/"
        },
        "outputId": "2d80ddcd-fb16-4d3e-de83-8f7245fd570c"
      },
      "execution_count": 23,
      "outputs": [
        {
          "output_type": "stream",
          "name": "stdout",
          "text": [
            "6.0\n"
          ]
        }
      ]
    },
    {
      "cell_type": "markdown",
      "source": [
        "5. What is the derivative of the loss with respect to $w_{1}$? (`20 points`)"
      ],
      "metadata": {
        "id": "hlO5xdMx9hhl"
      }
    },
    {
      "cell_type": "code",
      "source": [
        "# put your answer here\n",
        "print(str(z1*2*(z1))+\"*w1 - 4\")"
      ],
      "metadata": {
        "id": "-xP2grHW9hxK",
        "colab": {
          "base_uri": "https://localhost:8080/"
        },
        "outputId": "7b0c3c82-4cce-4186-a242-f9c0062c66c8"
      },
      "execution_count": 31,
      "outputs": [
        {
          "output_type": "stream",
          "name": "stdout",
          "text": [
            "8.0*w1 - 4\n"
          ]
        }
      ]
    },
    {
      "cell_type": "code",
      "source": [],
      "metadata": {
        "id": "E4krgUA-Gw6Q"
      },
      "execution_count": null,
      "outputs": []
    }
  ]
}