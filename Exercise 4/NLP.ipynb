{
  "nbformat": 4,
  "nbformat_minor": 0,
  "metadata": {
    "colab": {
      "provenance": [],
      "gpuType": "T4"
    },
    "kernelspec": {
      "name": "python3",
      "display_name": "Python 3"
    },
    "language_info": {
      "name": "python"
    },
    "accelerator": "GPU"
  },
  "cells": [
    {
      "cell_type": "code",
      "execution_count": 1,
      "metadata": {
        "id": "1oZlo0CfZUaH"
      },
      "outputs": [],
      "source": [
        "import tensorflow as tf\n",
        "\n",
        "from tensorflow.keras.preprocessing.text import Tokenizer\n",
        "from tensorflow.keras.preprocessing.sequence import pad_sequences"
      ]
    },
    {
      "cell_type": "code",
      "source": [
        "!wget \"https://raw.githubusercontent.com/robitussin/CCDEPLRL_EXERCISES/main/datasets/reviews.json\""
      ],
      "metadata": {
        "colab": {
          "base_uri": "https://localhost:8080/"
        },
        "id": "PefE2l3cZ7vj",
        "outputId": "0026dc04-4f4c-4a9d-8760-8070a0153ad1"
      },
      "execution_count": 2,
      "outputs": [
        {
          "output_type": "stream",
          "name": "stdout",
          "text": [
            "--2024-05-23 08:59:56--  https://raw.githubusercontent.com/robitussin/CCDEPLRL_EXERCISES/main/datasets/reviews.json\n",
            "Resolving raw.githubusercontent.com (raw.githubusercontent.com)... 185.199.108.133, 185.199.110.133, 185.199.109.133, ...\n",
            "Connecting to raw.githubusercontent.com (raw.githubusercontent.com)|185.199.108.133|:443... connected.\n",
            "HTTP request sent, awaiting response... 200 OK\n",
            "Length: 181920 (178K) [text/plain]\n",
            "Saving to: ‘reviews.json.5’\n",
            "\n",
            "\rreviews.json.5        0%[                    ]       0  --.-KB/s               \rreviews.json.5      100%[===================>] 177.66K  --.-KB/s    in 0.02s   \n",
            "\n",
            "2024-05-23 08:59:56 (8.25 MB/s) - ‘reviews.json.5’ saved [181920/181920]\n",
            "\n"
          ]
        }
      ]
    },
    {
      "cell_type": "code",
      "source": [
        "import numpy as np\n",
        "import pandas as pd\n",
        "\n",
        "dataset = pd.read_json('reviews.json')"
      ],
      "metadata": {
        "id": "CXVTl5MuZ7ik"
      },
      "execution_count": 3,
      "outputs": []
    },
    {
      "cell_type": "code",
      "source": [
        "mask = (dataset['rating'] > 0) & (dataset['rating'] < 4)\n",
        "column_name = 'rating'\n",
        "dataset.loc[mask, column_name] = 0\n",
        "\n",
        "mask = (dataset['rating'] > 3) & (dataset['rating'] < 6)\n",
        "column_name = 'rating'\n",
        "dataset.loc[mask, column_name] = 1"
      ],
      "metadata": {
        "id": "QORAxMg1ofuJ"
      },
      "execution_count": 4,
      "outputs": []
    },
    {
      "cell_type": "code",
      "source": [
        "dataset.head()"
      ],
      "metadata": {
        "colab": {
          "base_uri": "https://localhost:8080/",
          "height": 206
        },
        "id": "ZE-HVcahmm9K",
        "outputId": "e81201a9-ba2a-49bc-b1b3-dc399d9a67a2"
      },
      "execution_count": 5,
      "outputs": [
        {
          "output_type": "execute_result",
          "data": {
            "text/plain": [
              "                                              review  rating\n",
              "0                    sir okay armygreen shorts nice        1\n",
              "1  di pareha yong mga size nila may sobrang liit ...       1\n",
              "2  super worth it ang ganda Sombra grabi order na...       1\n",
              "3                                   ganda po salamat       1\n",
              "4                maayos pagkadeliver maganda den sya       1"
            ],
            "text/html": [
              "\n",
              "  <div id=\"df-b2e8923b-5569-4bb4-9673-2fff859f2d16\" class=\"colab-df-container\">\n",
              "    <div>\n",
              "<style scoped>\n",
              "    .dataframe tbody tr th:only-of-type {\n",
              "        vertical-align: middle;\n",
              "    }\n",
              "\n",
              "    .dataframe tbody tr th {\n",
              "        vertical-align: top;\n",
              "    }\n",
              "\n",
              "    .dataframe thead th {\n",
              "        text-align: right;\n",
              "    }\n",
              "</style>\n",
              "<table border=\"1\" class=\"dataframe\">\n",
              "  <thead>\n",
              "    <tr style=\"text-align: right;\">\n",
              "      <th></th>\n",
              "      <th>review</th>\n",
              "      <th>rating</th>\n",
              "    </tr>\n",
              "  </thead>\n",
              "  <tbody>\n",
              "    <tr>\n",
              "      <th>0</th>\n",
              "      <td>sir okay armygreen shorts nice</td>\n",
              "      <td>1</td>\n",
              "    </tr>\n",
              "    <tr>\n",
              "      <th>1</th>\n",
              "      <td>di pareha yong mga size nila may sobrang liit ...</td>\n",
              "      <td>1</td>\n",
              "    </tr>\n",
              "    <tr>\n",
              "      <th>2</th>\n",
              "      <td>super worth it ang ganda Sombra grabi order na...</td>\n",
              "      <td>1</td>\n",
              "    </tr>\n",
              "    <tr>\n",
              "      <th>3</th>\n",
              "      <td>ganda po salamat</td>\n",
              "      <td>1</td>\n",
              "    </tr>\n",
              "    <tr>\n",
              "      <th>4</th>\n",
              "      <td>maayos pagkadeliver maganda den sya</td>\n",
              "      <td>1</td>\n",
              "    </tr>\n",
              "  </tbody>\n",
              "</table>\n",
              "</div>\n",
              "    <div class=\"colab-df-buttons\">\n",
              "\n",
              "  <div class=\"colab-df-container\">\n",
              "    <button class=\"colab-df-convert\" onclick=\"convertToInteractive('df-b2e8923b-5569-4bb4-9673-2fff859f2d16')\"\n",
              "            title=\"Convert this dataframe to an interactive table.\"\n",
              "            style=\"display:none;\">\n",
              "\n",
              "  <svg xmlns=\"http://www.w3.org/2000/svg\" height=\"24px\" viewBox=\"0 -960 960 960\">\n",
              "    <path d=\"M120-120v-720h720v720H120Zm60-500h600v-160H180v160Zm220 220h160v-160H400v160Zm0 220h160v-160H400v160ZM180-400h160v-160H180v160Zm440 0h160v-160H620v160ZM180-180h160v-160H180v160Zm440 0h160v-160H620v160Z\"/>\n",
              "  </svg>\n",
              "    </button>\n",
              "\n",
              "  <style>\n",
              "    .colab-df-container {\n",
              "      display:flex;\n",
              "      gap: 12px;\n",
              "    }\n",
              "\n",
              "    .colab-df-convert {\n",
              "      background-color: #E8F0FE;\n",
              "      border: none;\n",
              "      border-radius: 50%;\n",
              "      cursor: pointer;\n",
              "      display: none;\n",
              "      fill: #1967D2;\n",
              "      height: 32px;\n",
              "      padding: 0 0 0 0;\n",
              "      width: 32px;\n",
              "    }\n",
              "\n",
              "    .colab-df-convert:hover {\n",
              "      background-color: #E2EBFA;\n",
              "      box-shadow: 0px 1px 2px rgba(60, 64, 67, 0.3), 0px 1px 3px 1px rgba(60, 64, 67, 0.15);\n",
              "      fill: #174EA6;\n",
              "    }\n",
              "\n",
              "    .colab-df-buttons div {\n",
              "      margin-bottom: 4px;\n",
              "    }\n",
              "\n",
              "    [theme=dark] .colab-df-convert {\n",
              "      background-color: #3B4455;\n",
              "      fill: #D2E3FC;\n",
              "    }\n",
              "\n",
              "    [theme=dark] .colab-df-convert:hover {\n",
              "      background-color: #434B5C;\n",
              "      box-shadow: 0px 1px 3px 1px rgba(0, 0, 0, 0.15);\n",
              "      filter: drop-shadow(0px 1px 2px rgba(0, 0, 0, 0.3));\n",
              "      fill: #FFFFFF;\n",
              "    }\n",
              "  </style>\n",
              "\n",
              "    <script>\n",
              "      const buttonEl =\n",
              "        document.querySelector('#df-b2e8923b-5569-4bb4-9673-2fff859f2d16 button.colab-df-convert');\n",
              "      buttonEl.style.display =\n",
              "        google.colab.kernel.accessAllowed ? 'block' : 'none';\n",
              "\n",
              "      async function convertToInteractive(key) {\n",
              "        const element = document.querySelector('#df-b2e8923b-5569-4bb4-9673-2fff859f2d16');\n",
              "        const dataTable =\n",
              "          await google.colab.kernel.invokeFunction('convertToInteractive',\n",
              "                                                    [key], {});\n",
              "        if (!dataTable) return;\n",
              "\n",
              "        const docLinkHtml = 'Like what you see? Visit the ' +\n",
              "          '<a target=\"_blank\" href=https://colab.research.google.com/notebooks/data_table.ipynb>data table notebook</a>'\n",
              "          + ' to learn more about interactive tables.';\n",
              "        element.innerHTML = '';\n",
              "        dataTable['output_type'] = 'display_data';\n",
              "        await google.colab.output.renderOutput(dataTable, element);\n",
              "        const docLink = document.createElement('div');\n",
              "        docLink.innerHTML = docLinkHtml;\n",
              "        element.appendChild(docLink);\n",
              "      }\n",
              "    </script>\n",
              "  </div>\n",
              "\n",
              "\n",
              "<div id=\"df-a8a30bde-fb0f-4974-b5f5-b0f2ae656809\">\n",
              "  <button class=\"colab-df-quickchart\" onclick=\"quickchart('df-a8a30bde-fb0f-4974-b5f5-b0f2ae656809')\"\n",
              "            title=\"Suggest charts\"\n",
              "            style=\"display:none;\">\n",
              "\n",
              "<svg xmlns=\"http://www.w3.org/2000/svg\" height=\"24px\"viewBox=\"0 0 24 24\"\n",
              "     width=\"24px\">\n",
              "    <g>\n",
              "        <path d=\"M19 3H5c-1.1 0-2 .9-2 2v14c0 1.1.9 2 2 2h14c1.1 0 2-.9 2-2V5c0-1.1-.9-2-2-2zM9 17H7v-7h2v7zm4 0h-2V7h2v10zm4 0h-2v-4h2v4z\"/>\n",
              "    </g>\n",
              "</svg>\n",
              "  </button>\n",
              "\n",
              "<style>\n",
              "  .colab-df-quickchart {\n",
              "      --bg-color: #E8F0FE;\n",
              "      --fill-color: #1967D2;\n",
              "      --hover-bg-color: #E2EBFA;\n",
              "      --hover-fill-color: #174EA6;\n",
              "      --disabled-fill-color: #AAA;\n",
              "      --disabled-bg-color: #DDD;\n",
              "  }\n",
              "\n",
              "  [theme=dark] .colab-df-quickchart {\n",
              "      --bg-color: #3B4455;\n",
              "      --fill-color: #D2E3FC;\n",
              "      --hover-bg-color: #434B5C;\n",
              "      --hover-fill-color: #FFFFFF;\n",
              "      --disabled-bg-color: #3B4455;\n",
              "      --disabled-fill-color: #666;\n",
              "  }\n",
              "\n",
              "  .colab-df-quickchart {\n",
              "    background-color: var(--bg-color);\n",
              "    border: none;\n",
              "    border-radius: 50%;\n",
              "    cursor: pointer;\n",
              "    display: none;\n",
              "    fill: var(--fill-color);\n",
              "    height: 32px;\n",
              "    padding: 0;\n",
              "    width: 32px;\n",
              "  }\n",
              "\n",
              "  .colab-df-quickchart:hover {\n",
              "    background-color: var(--hover-bg-color);\n",
              "    box-shadow: 0 1px 2px rgba(60, 64, 67, 0.3), 0 1px 3px 1px rgba(60, 64, 67, 0.15);\n",
              "    fill: var(--button-hover-fill-color);\n",
              "  }\n",
              "\n",
              "  .colab-df-quickchart-complete:disabled,\n",
              "  .colab-df-quickchart-complete:disabled:hover {\n",
              "    background-color: var(--disabled-bg-color);\n",
              "    fill: var(--disabled-fill-color);\n",
              "    box-shadow: none;\n",
              "  }\n",
              "\n",
              "  .colab-df-spinner {\n",
              "    border: 2px solid var(--fill-color);\n",
              "    border-color: transparent;\n",
              "    border-bottom-color: var(--fill-color);\n",
              "    animation:\n",
              "      spin 1s steps(1) infinite;\n",
              "  }\n",
              "\n",
              "  @keyframes spin {\n",
              "    0% {\n",
              "      border-color: transparent;\n",
              "      border-bottom-color: var(--fill-color);\n",
              "      border-left-color: var(--fill-color);\n",
              "    }\n",
              "    20% {\n",
              "      border-color: transparent;\n",
              "      border-left-color: var(--fill-color);\n",
              "      border-top-color: var(--fill-color);\n",
              "    }\n",
              "    30% {\n",
              "      border-color: transparent;\n",
              "      border-left-color: var(--fill-color);\n",
              "      border-top-color: var(--fill-color);\n",
              "      border-right-color: var(--fill-color);\n",
              "    }\n",
              "    40% {\n",
              "      border-color: transparent;\n",
              "      border-right-color: var(--fill-color);\n",
              "      border-top-color: var(--fill-color);\n",
              "    }\n",
              "    60% {\n",
              "      border-color: transparent;\n",
              "      border-right-color: var(--fill-color);\n",
              "    }\n",
              "    80% {\n",
              "      border-color: transparent;\n",
              "      border-right-color: var(--fill-color);\n",
              "      border-bottom-color: var(--fill-color);\n",
              "    }\n",
              "    90% {\n",
              "      border-color: transparent;\n",
              "      border-bottom-color: var(--fill-color);\n",
              "    }\n",
              "  }\n",
              "</style>\n",
              "\n",
              "  <script>\n",
              "    async function quickchart(key) {\n",
              "      const quickchartButtonEl =\n",
              "        document.querySelector('#' + key + ' button');\n",
              "      quickchartButtonEl.disabled = true;  // To prevent multiple clicks.\n",
              "      quickchartButtonEl.classList.add('colab-df-spinner');\n",
              "      try {\n",
              "        const charts = await google.colab.kernel.invokeFunction(\n",
              "            'suggestCharts', [key], {});\n",
              "      } catch (error) {\n",
              "        console.error('Error during call to suggestCharts:', error);\n",
              "      }\n",
              "      quickchartButtonEl.classList.remove('colab-df-spinner');\n",
              "      quickchartButtonEl.classList.add('colab-df-quickchart-complete');\n",
              "    }\n",
              "    (() => {\n",
              "      let quickchartButtonEl =\n",
              "        document.querySelector('#df-a8a30bde-fb0f-4974-b5f5-b0f2ae656809 button');\n",
              "      quickchartButtonEl.style.display =\n",
              "        google.colab.kernel.accessAllowed ? 'block' : 'none';\n",
              "    })();\n",
              "  </script>\n",
              "</div>\n",
              "    </div>\n",
              "  </div>\n"
            ],
            "application/vnd.google.colaboratory.intrinsic+json": {
              "type": "dataframe",
              "variable_name": "dataset",
              "summary": "{\n  \"name\": \"dataset\",\n  \"rows\": 1001,\n  \"fields\": [\n    {\n      \"column\": \"review\",\n      \"properties\": {\n        \"dtype\": \"string\",\n        \"num_unique_values\": 914,\n        \"samples\": [\n          \"mabilis lang dumating. naka sealed pa ng magagos maliban sa mismong sealed ng nail polish. ang gabda ng kulay at nabili ko lang for only 5 pesos!\",\n          \"i ordered three different shirts, only of them arrived here correctly. one is in wrong size and the other is not the color i ordered and wrong size too.!!!!\",\n          \"The speaker is working and the quality of the sound is very nice. I don't know why but I didn't get the design that I want. Instead of Army Green, I got Grey but its still good. The packaging is also nice. You should buy this product. It is worth it. \"\n        ],\n        \"semantic_type\": \"\",\n        \"description\": \"\"\n      }\n    },\n    {\n      \"column\": \"rating\",\n      \"properties\": {\n        \"dtype\": \"number\",\n        \"std\": 0,\n        \"min\": 0,\n        \"max\": 1,\n        \"num_unique_values\": 2,\n        \"samples\": [\n          0,\n          1\n        ],\n        \"semantic_type\": \"\",\n        \"description\": \"\"\n      }\n    }\n  ]\n}"
            }
          },
          "metadata": {},
          "execution_count": 5
        }
      ]
    },
    {
      "cell_type": "code",
      "source": [
        "#Tokenize Data\n",
        "sentences = dataset['review'].tolist()\n",
        "labels = dataset['rating'].tolist()\n",
        "\n",
        "\n",
        "#Training Split\n",
        "training_size = int(len(sentences) * 0.8)\n",
        "training_sentences = sentences[0:training_size]\n",
        "testing_sentences = sentences[training_size:]\n",
        "training_labels = labels[0:training_size]\n",
        "testing_labels = labels[training_size:]\n",
        "training_labels_final = np.array(training_labels)\n",
        "testing_labels_final = np.array(testing_labels)\n",
        "\n",
        "vocab_size = 3100\n",
        "embedding_dim = 16\n",
        "max_length = 100\n",
        "padding_type='post'\n",
        "oov_tok = \"<OOV>\"\n",
        "\n",
        "tokenizer = Tokenizer(num_words = vocab_size,oov_token=oov_tok)\n",
        "tokenizer.fit_on_texts(training_sentences)\n",
        "word_index = tokenizer.word_index"
      ],
      "metadata": {
        "id": "dXg9-NePa6_C"
      },
      "execution_count": 6,
      "outputs": []
    },
    {
      "cell_type": "code",
      "source": [
        "#Sequence Data\n",
        "training_sequences = tokenizer.texts_to_sequences(training_sentences)\n",
        "testing_sequences = tokenizer.texts_to_sequences(testing_sentences)"
      ],
      "metadata": {
        "id": "wjTAr00Fbv3T"
      },
      "execution_count": 7,
      "outputs": []
    },
    {
      "cell_type": "code",
      "source": [
        "#Padding Data\n",
        "training_padded = pad_sequences(training_sequences, maxlen=max_length, padding=padding_type)\n",
        "testing_padded = pad_sequences(testing_sequences, maxlen=max_length, padding=padding_type)"
      ],
      "metadata": {
        "id": "Y-ixf_WXb9tr"
      },
      "execution_count": 8,
      "outputs": []
    },
    {
      "cell_type": "code",
      "source": [
        "#Training\n",
        "model = tf.keras.Sequential([\n",
        "    tf.keras.layers.Embedding(vocab_size, embedding_dim, input_length=max_length),\n",
        "    tf.keras.layers.GlobalAveragePooling1D(),\n",
        "    tf.keras.layers.Dense(8, activation='relu'),\n",
        "    tf.keras.layers.Dense(1, activation='sigmoid')\n",
        "])\n",
        "model.compile(loss='binary_crossentropy',optimizer='adam',metrics=['accuracy'])\n",
        "model.summary()"
      ],
      "metadata": {
        "colab": {
          "base_uri": "https://localhost:8080/"
        },
        "id": "Zo2x0-hBch_p",
        "outputId": "54ce2965-a1e3-4359-8216-c652200674e3"
      },
      "execution_count": 9,
      "outputs": [
        {
          "output_type": "stream",
          "name": "stdout",
          "text": [
            "Model: \"sequential\"\n",
            "_________________________________________________________________\n",
            " Layer (type)                Output Shape              Param #   \n",
            "=================================================================\n",
            " embedding (Embedding)       (None, 100, 16)           49600     \n",
            "                                                                 \n",
            " global_average_pooling1d (  (None, 16)                0         \n",
            " GlobalAveragePooling1D)                                         \n",
            "                                                                 \n",
            " dense (Dense)               (None, 8)                 136       \n",
            "                                                                 \n",
            " dense_1 (Dense)             (None, 1)                 9         \n",
            "                                                                 \n",
            "=================================================================\n",
            "Total params: 49745 (194.32 KB)\n",
            "Trainable params: 49745 (194.32 KB)\n",
            "Non-trainable params: 0 (0.00 Byte)\n",
            "_________________________________________________________________\n"
          ]
        }
      ]
    },
    {
      "cell_type": "code",
      "source": [
        "history = model.fit(training_padded, training_labels_final, epochs=25, validation_data=(testing_padded, testing_labels_final))"
      ],
      "metadata": {
        "colab": {
          "base_uri": "https://localhost:8080/"
        },
        "id": "DC5gHqSdcvD6",
        "outputId": "a94055e8-669a-4f96-ee4b-f4b5369b581e"
      },
      "execution_count": 10,
      "outputs": [
        {
          "output_type": "stream",
          "name": "stdout",
          "text": [
            "Epoch 1/25\n",
            "25/25 [==============================] - 9s 240ms/step - loss: 0.6912 - accuracy: 0.5325 - val_loss: 0.7131 - val_accuracy: 0.2139\n",
            "Epoch 2/25\n",
            "25/25 [==============================] - 4s 151ms/step - loss: 0.6861 - accuracy: 0.5688 - val_loss: 0.7279 - val_accuracy: 0.2139\n",
            "Epoch 3/25\n",
            "25/25 [==============================] - 3s 112ms/step - loss: 0.6826 - accuracy: 0.5688 - val_loss: 0.7486 - val_accuracy: 0.2139\n",
            "Epoch 4/25\n",
            "25/25 [==============================] - 2s 95ms/step - loss: 0.6789 - accuracy: 0.5688 - val_loss: 0.7571 - val_accuracy: 0.2139\n",
            "Epoch 5/25\n",
            "25/25 [==============================] - 2s 81ms/step - loss: 0.6752 - accuracy: 0.5688 - val_loss: 0.7609 - val_accuracy: 0.2139\n",
            "Epoch 6/25\n",
            "25/25 [==============================] - 2s 100ms/step - loss: 0.6708 - accuracy: 0.5688 - val_loss: 0.7552 - val_accuracy: 0.2139\n",
            "Epoch 7/25\n",
            "25/25 [==============================] - 2s 79ms/step - loss: 0.6649 - accuracy: 0.5725 - val_loss: 0.7530 - val_accuracy: 0.2338\n",
            "Epoch 8/25\n",
            "25/25 [==============================] - 2s 101ms/step - loss: 0.6570 - accuracy: 0.5775 - val_loss: 0.7473 - val_accuracy: 0.2388\n",
            "Epoch 9/25\n",
            "25/25 [==============================] - 1s 50ms/step - loss: 0.6458 - accuracy: 0.5900 - val_loss: 0.7240 - val_accuracy: 0.3035\n",
            "Epoch 10/25\n",
            "25/25 [==============================] - 1s 36ms/step - loss: 0.6300 - accuracy: 0.6338 - val_loss: 0.7068 - val_accuracy: 0.3831\n",
            "Epoch 11/25\n",
            "25/25 [==============================] - 1s 50ms/step - loss: 0.6115 - accuracy: 0.7013 - val_loss: 0.6954 - val_accuracy: 0.4129\n",
            "Epoch 12/25\n",
            "25/25 [==============================] - 1s 37ms/step - loss: 0.5901 - accuracy: 0.7163 - val_loss: 0.6722 - val_accuracy: 0.5124\n",
            "Epoch 13/25\n",
            "25/25 [==============================] - 1s 37ms/step - loss: 0.5667 - accuracy: 0.7487 - val_loss: 0.6445 - val_accuracy: 0.5920\n",
            "Epoch 14/25\n",
            "25/25 [==============================] - 1s 50ms/step - loss: 0.5417 - accuracy: 0.7937 - val_loss: 0.6184 - val_accuracy: 0.6866\n",
            "Epoch 15/25\n",
            "25/25 [==============================] - 1s 24ms/step - loss: 0.5153 - accuracy: 0.8037 - val_loss: 0.5981 - val_accuracy: 0.7114\n",
            "Epoch 16/25\n",
            "25/25 [==============================] - 1s 43ms/step - loss: 0.4894 - accuracy: 0.8175 - val_loss: 0.5612 - val_accuracy: 0.8010\n",
            "Epoch 17/25\n",
            "25/25 [==============================] - 1s 24ms/step - loss: 0.4662 - accuracy: 0.8700 - val_loss: 0.6045 - val_accuracy: 0.6269\n",
            "Epoch 18/25\n",
            "25/25 [==============================] - 1s 22ms/step - loss: 0.4376 - accuracy: 0.8637 - val_loss: 0.5250 - val_accuracy: 0.8408\n",
            "Epoch 19/25\n",
            "25/25 [==============================] - 1s 28ms/step - loss: 0.4128 - accuracy: 0.8900 - val_loss: 0.5137 - val_accuracy: 0.8358\n",
            "Epoch 20/25\n",
            "25/25 [==============================] - 1s 37ms/step - loss: 0.3901 - accuracy: 0.8838 - val_loss: 0.4912 - val_accuracy: 0.8308\n",
            "Epoch 21/25\n",
            "25/25 [==============================] - 1s 40ms/step - loss: 0.3691 - accuracy: 0.9125 - val_loss: 0.4853 - val_accuracy: 0.8209\n",
            "Epoch 22/25\n",
            "25/25 [==============================] - 0s 12ms/step - loss: 0.3487 - accuracy: 0.9225 - val_loss: 0.4935 - val_accuracy: 0.8159\n",
            "Epoch 23/25\n",
            "25/25 [==============================] - 0s 18ms/step - loss: 0.3300 - accuracy: 0.9175 - val_loss: 0.4441 - val_accuracy: 0.8607\n",
            "Epoch 24/25\n",
            "25/25 [==============================] - 0s 12ms/step - loss: 0.3129 - accuracy: 0.9262 - val_loss: 0.4433 - val_accuracy: 0.8507\n",
            "Epoch 25/25\n",
            "25/25 [==============================] - 1s 25ms/step - loss: 0.2966 - accuracy: 0.9400 - val_loss: 0.4542 - val_accuracy: 0.8259\n"
          ]
        }
      ]
    },
    {
      "cell_type": "markdown",
      "source": [
        "**Get files for visualing the network**"
      ],
      "metadata": {
        "id": "d56pSA_npe1y"
      }
    },
    {
      "cell_type": "code",
      "source": [
        "# First get the weights of the embedding layer\n",
        "e = model.layers[0]\n",
        "weights = e.get_weights()[0]\n",
        "print(weights.shape) # shape: (vocab_size, embedding_dim)"
      ],
      "metadata": {
        "colab": {
          "base_uri": "https://localhost:8080/"
        },
        "id": "TBIdJhIYpFK4",
        "outputId": "cba7d79d-867f-4d7e-ad79-7c703795fa6c"
      },
      "execution_count": 11,
      "outputs": [
        {
          "output_type": "stream",
          "name": "stdout",
          "text": [
            "(3100, 16)\n"
          ]
        }
      ]
    },
    {
      "cell_type": "code",
      "source": [
        "import io\n",
        "\n",
        "# Create the reverse word index\n",
        "reverse_word_index = dict([(value, key) for (key, value) in word_index.items()])\n",
        "\n",
        "# Write out the embedding vectors and metadata\n",
        "out_v = io.open('vecs.tsv', 'w', encoding='utf-8')\n",
        "out_m = io.open('meta.tsv', 'w', encoding='utf-8')\n",
        "for word_num in range(1, vocab_size):\n",
        "  word = reverse_word_index[word_num]\n",
        "  embeddings = weights[word_num]\n",
        "  out_m.write(word + \"\\n\")\n",
        "  out_v.write('\\t'.join([str(x) for x in embeddings]) + \"\\n\")\n",
        "out_v.close()\n",
        "out_m.close()"
      ],
      "metadata": {
        "id": "H4fvujVlpHWp"
      },
      "execution_count": 12,
      "outputs": []
    },
    {
      "cell_type": "code",
      "source": [
        "# Download the files\n",
        "try:\n",
        "  from google.colab import files\n",
        "except ImportError:\n",
        "  pass\n",
        "else:\n",
        "  files.download('vecs.tsv')\n",
        "  files.download('meta.tsv')"
      ],
      "metadata": {
        "colab": {
          "base_uri": "https://localhost:8080/",
          "height": 17
        },
        "id": "fRgX7yLVpIWn",
        "outputId": "3c2dafae-fdcd-4017-cdf8-8a395cddf157"
      },
      "execution_count": 13,
      "outputs": [
        {
          "output_type": "display_data",
          "data": {
            "text/plain": [
              "<IPython.core.display.Javascript object>"
            ],
            "application/javascript": [
              "\n",
              "    async function download(id, filename, size) {\n",
              "      if (!google.colab.kernel.accessAllowed) {\n",
              "        return;\n",
              "      }\n",
              "      const div = document.createElement('div');\n",
              "      const label = document.createElement('label');\n",
              "      label.textContent = `Downloading \"${filename}\": `;\n",
              "      div.appendChild(label);\n",
              "      const progress = document.createElement('progress');\n",
              "      progress.max = size;\n",
              "      div.appendChild(progress);\n",
              "      document.body.appendChild(div);\n",
              "\n",
              "      const buffers = [];\n",
              "      let downloaded = 0;\n",
              "\n",
              "      const channel = await google.colab.kernel.comms.open(id);\n",
              "      // Send a message to notify the kernel that we're ready.\n",
              "      channel.send({})\n",
              "\n",
              "      for await (const message of channel.messages) {\n",
              "        // Send a message to notify the kernel that we're ready.\n",
              "        channel.send({})\n",
              "        if (message.buffers) {\n",
              "          for (const buffer of message.buffers) {\n",
              "            buffers.push(buffer);\n",
              "            downloaded += buffer.byteLength;\n",
              "            progress.value = downloaded;\n",
              "          }\n",
              "        }\n",
              "      }\n",
              "      const blob = new Blob(buffers, {type: 'application/binary'});\n",
              "      const a = document.createElement('a');\n",
              "      a.href = window.URL.createObjectURL(blob);\n",
              "      a.download = filename;\n",
              "      div.appendChild(a);\n",
              "      a.click();\n",
              "      div.remove();\n",
              "    }\n",
              "  "
            ]
          },
          "metadata": {}
        },
        {
          "output_type": "display_data",
          "data": {
            "text/plain": [
              "<IPython.core.display.Javascript object>"
            ],
            "application/javascript": [
              "download(\"download_651a7ead-af79-417a-9447-a97e26589ef9\", \"vecs.tsv\", 569609)"
            ]
          },
          "metadata": {}
        },
        {
          "output_type": "display_data",
          "data": {
            "text/plain": [
              "<IPython.core.display.Javascript object>"
            ],
            "application/javascript": [
              "\n",
              "    async function download(id, filename, size) {\n",
              "      if (!google.colab.kernel.accessAllowed) {\n",
              "        return;\n",
              "      }\n",
              "      const div = document.createElement('div');\n",
              "      const label = document.createElement('label');\n",
              "      label.textContent = `Downloading \"${filename}\": `;\n",
              "      div.appendChild(label);\n",
              "      const progress = document.createElement('progress');\n",
              "      progress.max = size;\n",
              "      div.appendChild(progress);\n",
              "      document.body.appendChild(div);\n",
              "\n",
              "      const buffers = [];\n",
              "      let downloaded = 0;\n",
              "\n",
              "      const channel = await google.colab.kernel.comms.open(id);\n",
              "      // Send a message to notify the kernel that we're ready.\n",
              "      channel.send({})\n",
              "\n",
              "      for await (const message of channel.messages) {\n",
              "        // Send a message to notify the kernel that we're ready.\n",
              "        channel.send({})\n",
              "        if (message.buffers) {\n",
              "          for (const buffer of message.buffers) {\n",
              "            buffers.push(buffer);\n",
              "            downloaded += buffer.byteLength;\n",
              "            progress.value = downloaded;\n",
              "          }\n",
              "        }\n",
              "      }\n",
              "      const blob = new Blob(buffers, {type: 'application/binary'});\n",
              "      const a = document.createElement('a');\n",
              "      a.href = window.URL.createObjectURL(blob);\n",
              "      a.download = filename;\n",
              "      div.appendChild(a);\n",
              "      a.click();\n",
              "      div.remove();\n",
              "    }\n",
              "  "
            ]
          },
          "metadata": {}
        },
        {
          "output_type": "display_data",
          "data": {
            "text/plain": [
              "<IPython.core.display.Javascript object>"
            ],
            "application/javascript": [
              "download(\"download_baeddcd7-e6cf-4691-ad8a-842255172250\", \"meta.tsv\", 23330)"
            ]
          },
          "metadata": {}
        }
      ]
    },
    {
      "cell_type": "markdown",
      "source": [
        "**Fake Reviews**"
      ],
      "metadata": {
        "id": "3yBIEPKPpjb2"
      }
    },
    {
      "cell_type": "code",
      "source": [
        "fake_reviews = ['Ang ganda worht it thank you', 'Hindi ko gusto ang phone', 'Ang panget ng spaghetti', 'Ang ganda ng Shorts', 'Super Worth it ang panget', 'wag bumili dito', 'Ang ganda ng produkto worth it!', 'Thank you ang panget ng product', 'Panget yung damit', 'Sir okay armygreen shorts nice', 'Halatang ginupit ang mga brick wall nakaka dismaya wag kayo omorder jan', 'Ang ganda super worth it ang product']\n",
        "\n",
        "print(fake_reviews)\n",
        "\n",
        "# Create the sequences\n",
        "padding_type='post'\n",
        "sample_sequences = tokenizer.texts_to_sequences(fake_reviews)\n",
        "fakes_padded = pad_sequences(sample_sequences, padding=padding_type, maxlen=max_length)\n",
        "classes = model.predict(fakes_padded)\n",
        "\n",
        "for x in range(len(fake_reviews)):\n",
        "  print(fake_reviews[x])\n",
        "  print(classes[x])\n",
        "  print('\\n')"
      ],
      "metadata": {
        "colab": {
          "base_uri": "https://localhost:8080/"
        },
        "id": "Mtc38cLwoXQx",
        "outputId": "1677c68f-46d0-4fb5-defe-2cbf6c0e5ba2"
      },
      "execution_count": 16,
      "outputs": [
        {
          "output_type": "stream",
          "name": "stdout",
          "text": [
            "['Ang ganda worht it thank you', 'Hindi ko gusto ang phone', 'Ang panget ng spaghetti', 'Ang ganda ng Shorts', 'Super Worth it ang panget', 'wag bumili dito', 'Ang ganda ng produkto worth it!', 'Thank you ang panget ng product', 'Panget yung damit', 'Sir okay armygreen shorts nice', 'Halatang ginupit ang mga brick wall nakaka dismaya wag kayo omorder jan', 'Ang ganda super worth it ang product']\n",
            "1/1 [==============================] - 0s 17ms/step\n",
            "Ang ganda worht it thank you\n",
            "[0.76329434]\n",
            "\n",
            "\n",
            "Hindi ko gusto ang phone\n",
            "[0.43379864]\n",
            "\n",
            "\n",
            "Ang panget ng spaghetti\n",
            "[0.44276875]\n",
            "\n",
            "\n",
            "Ang ganda ng Shorts\n",
            "[0.63875586]\n",
            "\n",
            "\n",
            "Super Worth it ang panget\n",
            "[0.5861864]\n",
            "\n",
            "\n",
            "wag bumili dito\n",
            "[0.4984521]\n",
            "\n",
            "\n",
            "Ang ganda ng produkto worth it!\n",
            "[0.6646787]\n",
            "\n",
            "\n",
            "Thank you ang panget ng product\n",
            "[0.71928966]\n",
            "\n",
            "\n",
            "Panget yung damit\n",
            "[0.43196833]\n",
            "\n",
            "\n",
            "Sir okay armygreen shorts nice\n",
            "[0.6784393]\n",
            "\n",
            "\n",
            "Halatang ginupit ang mga brick wall nakaka dismaya wag kayo omorder jan\n",
            "[0.21415734]\n",
            "\n",
            "\n",
            "Ang ganda super worth it ang product\n",
            "[0.7506798]\n",
            "\n",
            "\n"
          ]
        }
      ]
    },
    {
      "cell_type": "code",
      "source": [],
      "metadata": {
        "id": "wYGFDGJxp2kj"
      },
      "execution_count": 14,
      "outputs": []
    }
  ]
}