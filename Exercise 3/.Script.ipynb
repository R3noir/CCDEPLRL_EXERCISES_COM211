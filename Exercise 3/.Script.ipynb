{
 "cells": [
  {
   "cell_type": "code",
   "execution_count": 17,
   "metadata": {},
   "outputs": [],
   "source": [
    "#Imports\n",
    "import tensorflow as tf\n",
    "import os\n",
    "import numpy as np\n",
    "import shutil\n",
    "import zipfile\n",
    "import matplotlib.pyplot as plt"
   ]
  },
  {
   "cell_type": "code",
   "execution_count": 18,
   "metadata": {},
   "outputs": [],
   "source": [
    "#Imports for TensorFlow\n",
    "from tensorflow.keras.preprocessing.image import ImageDataGenerator\n",
    "from tensorflow.keras.models import Sequential\n",
    "from tensorflow.keras.layers import Dense, Flatten, GlobalAveragePooling2D, Dropout\n",
    "from tensorflow.keras.layers import Conv2D, MaxPooling2D, Flatten, Dense, Activation, Dropout, BatchNormalization\n",
    "from tensorflow.keras import regularizers\n"
   ]
  },
  {
   "cell_type": "markdown",
   "metadata": {},
   "source": [
    "**RUN THE CELL BELOW ONLY ONCE, IT IS RESPONSIBLE FOR EXTRACTING THE DATASET**\n",
    "**BY USING THIS CELL YOU ARE CREATING YOUR OWN UNIQUE DATASET AS EACH TRAINING, TESTING, AND VALIDATION DATA ARE SHUFFLED**"
   ]
  },
  {
   "cell_type": "code",
   "execution_count": 6,
   "metadata": {},
   "outputs": [],
   "source": [
    "# Define the directories\n",
    "base_dir = os.getcwd()\n",
    "dataset_dir = os.path.join(base_dir, 'Dataset')\n",
    "dataset_split_dir = os.path.join(base_dir, 'dataset_split')\n",
    "zip_file = os.path.join(base_dir, 'Dataset.zip')\n",
    "\n",
    "# Extract the zip file\n",
    "with zipfile.ZipFile(zip_file, 'r') as zip_ref:\n",
    "    zip_ref.extractall(base_dir)\n",
    "\n",
    "# Create the split directories if they don't exist\n",
    "os.makedirs(dataset_split_dir, exist_ok=True)\n",
    "train_dir = os.path.join(dataset_split_dir, 'train')\n",
    "valid_dir = os.path.join(dataset_split_dir, 'valid')\n",
    "test_dir = os.path.join(dataset_split_dir, 'test')\n",
    "os.makedirs(train_dir, exist_ok=True)\n",
    "os.makedirs(valid_dir, exist_ok=True)\n",
    "os.makedirs(test_dir, exist_ok=True)\n",
    "\n",
    "# Get the list of all classes\n",
    "classes = os.listdir(dataset_dir)\n",
    "\n",
    "# For each class, split the files into train/valid/test\n",
    "for class_name in classes:\n",
    "    # Create directories for this class in train/valid/test\n",
    "    os.makedirs(os.path.join(train_dir, class_name), exist_ok=True)\n",
    "    os.makedirs(os.path.join(valid_dir, class_name), exist_ok=True)\n",
    "    os.makedirs(os.path.join(test_dir, class_name), exist_ok=True)\n",
    "\n",
    "    # Get a list of all files for this class\n",
    "    files = os.listdir(os.path.join(dataset_dir, class_name))\n",
    "    # Shuffle the files\n",
    "    np.random.shuffle(files)\n",
    "\n",
    "    # Split the files\n",
    "    train_files = files[:int(len(files)*0.8)]\n",
    "    valid_files = files[int(len(files)*0.8):int(len(files)*0.95)]\n",
    "    test_files = files[int(len(files)*0.95):]\n",
    "\n",
    "    # Copy the files to the right directories\n",
    "    for file in train_files:\n",
    "        shutil.copy(os.path.join(dataset_dir, class_name, file), os.path.join(train_dir, class_name, file))\n",
    "    for file in valid_files:\n",
    "        shutil.copy(os.path.join(dataset_dir, class_name, file), os.path.join(valid_dir, class_name, file))\n",
    "    for file in test_files:\n",
    "        shutil.copy(os.path.join(dataset_dir, class_name, file), os.path.join(test_dir, class_name, file))"
   ]
  },
  {
   "cell_type": "markdown",
   "metadata": {},
   "source": [
    "**RUN THE CELL BELOW TO USE THE DATASET USED TO TRAIN THE MODEL**"
   ]
  },
  {
   "cell_type": "code",
   "execution_count": 19,
   "metadata": {},
   "outputs": [],
   "source": [
    "zip_file = os.path.join(base_dir, 'dataset_split.zip')\n",
    "\n",
    "# Extract the zip file\n",
    "with zipfile.ZipFile(zip_file, 'r') as zip_ref:\n",
    "    zip_ref.extractall(base_dir)"
   ]
  },
  {
   "cell_type": "markdown",
   "metadata": {},
   "source": [
    "**ONLY RUN THIS CELL ONCE THE ABOVE CELL HAS RAN ONCE**"
   ]
  },
  {
   "cell_type": "code",
   "execution_count": 20,
   "metadata": {},
   "outputs": [],
   "source": [
    "base_dir = os.getcwd() #Defining the base directory\n",
    "dataset_split_dir = os.path.join(base_dir, 'dataset_split')\n",
    "train_dir = os.path.join(dataset_split_dir, 'train')\n",
    "valid_dir = os.path.join(dataset_split_dir, 'valid')\n",
    "test_dir = os.path.join(dataset_split_dir, 'test')"
   ]
  },
  {
   "cell_type": "code",
   "execution_count": 21,
   "metadata": {},
   "outputs": [
    {
     "name": "stdout",
     "output_type": "stream",
     "text": [
      "Found 3200 images belonging to 4 classes.\n",
      "Found 600 images belonging to 4 classes.\n",
      "Found 200 images belonging to 4 classes.\n"
     ]
    }
   ],
   "source": [
    "#Train, Validation and test Data\n",
    "img_height, img_width = 64, 64\n",
    "batch_size = 100\n",
    "Train = ImageDataGenerator(rescale=1./255,\n",
    "      rotation_range=40,\n",
    "      width_shift_range=0.2,\n",
    "      height_shift_range=0.2,\n",
    "      shear_range=0.2,\n",
    "      zoom_range=0.2,\n",
    "      horizontal_flip=True,\n",
    "      fill_mode='nearest')\n",
    "Valid = ImageDataGenerator( rescale = 1.0/255. )\n",
    "Test = ImageDataGenerator( rescale = 1.0/255. )\n",
    "train_data = Train.flow_from_directory(train_dir, \n",
    "                                         target_size = (img_height, img_width), \n",
    "                                         batch_size = batch_size,\n",
    "                                         class_mode = 'categorical'\n",
    "                                         )\n",
    "valid_data = Valid.flow_from_directory(valid_dir,\n",
    "                                        target_size = (img_height, img_width),\n",
    "                                        batch_size = batch_size,\n",
    "                                        class_mode = 'categorical'\n",
    "                                        )\n",
    "test_data = Test.flow_from_directory(test_dir, \n",
    "                                            target_size = (img_height, img_width),\n",
    "                                            batch_size = batch_size,\n",
    "                                            class_mode = 'categorical'\n",
    "                                            )"
   ]
  },
  {
   "cell_type": "markdown",
   "metadata": {},
   "source": [
    "**THE CELL ABOVE SHOULD INDICATE 3200 IMAGES THEN 600 IMAGES, THEN 200 IMAGES ALL BELONGING TO 4 CLASSESS**"
   ]
  },
  {
   "cell_type": "code",
   "execution_count": 22,
   "metadata": {},
   "outputs": [],
   "source": [
    "model = tf.keras.models.Sequential([\n",
    "      tf.keras.layers.Conv2D(32, (3,3), input_shape=(64, 64, 3), activation='relu'),\n",
    "      tf.keras.layers.MaxPooling2D(2, 2),\n",
    "      tf.keras.layers.Conv2D(64, (3,3), activation='relu'),\n",
    "      tf.keras.layers.MaxPooling2D(2,2),\n",
    "      tf.keras.layers.Conv2D(128, (3,3), activation='relu'),\n",
    "      tf.keras.layers.MaxPooling2D(2,2),\n",
    "      tf.keras.layers.Conv2D(128, (3,3), activation='relu'),\n",
    "      tf.keras.layers.MaxPooling2D(2,2),\n",
    "      tf.keras.layers.Flatten(),\n",
    "      #Dropout(0.5, seed=123),\n",
    "      tf.keras.layers.Dense(512, activation='relu'),\n",
    "      #Dropout(0.6, seed=123),\n",
    "    tf.keras.layers.Dense(4, activation='softmax')\n",
    "])"
   ]
  },
  {
   "cell_type": "code",
   "execution_count": 23,
   "metadata": {},
   "outputs": [],
   "source": [
    "\n",
    "model.compile(optimizer=\"Adam\",\n",
    "    loss=\"categorical_crossentropy\",\n",
    "    metrics=['accuracy']\n",
    ")"
   ]
  },
  {
   "cell_type": "code",
   "execution_count": 24,
   "metadata": {},
   "outputs": [
    {
     "name": "stdout",
     "output_type": "stream",
     "text": [
      "Epoch 1/30\n",
      "32/32 [==============================] - 42s 1s/step - loss: 1.1077 - accuracy: 0.5047 - val_loss: 0.6972 - val_accuracy: 0.7517\n",
      "Epoch 2/30\n",
      "32/32 [==============================] - 19s 599ms/step - loss: 0.7135 - accuracy: 0.7153 - val_loss: 0.5812 - val_accuracy: 0.8083\n",
      "Epoch 3/30\n",
      "32/32 [==============================] - 19s 582ms/step - loss: 0.5617 - accuracy: 0.7781 - val_loss: 0.4114 - val_accuracy: 0.8600\n",
      "Epoch 4/30\n",
      "32/32 [==============================] - 18s 570ms/step - loss: 0.5048 - accuracy: 0.8094 - val_loss: 0.3850 - val_accuracy: 0.8600\n",
      "Epoch 5/30\n",
      "32/32 [==============================] - 18s 573ms/step - loss: 0.4268 - accuracy: 0.8413 - val_loss: 0.3591 - val_accuracy: 0.8700\n",
      "Epoch 6/30\n",
      "32/32 [==============================] - 18s 566ms/step - loss: 0.3785 - accuracy: 0.8550 - val_loss: 0.3148 - val_accuracy: 0.8967\n",
      "Epoch 7/30\n",
      "32/32 [==============================] - 18s 574ms/step - loss: 0.3875 - accuracy: 0.8509 - val_loss: 0.3034 - val_accuracy: 0.8983\n",
      "Epoch 8/30\n",
      "32/32 [==============================] - 18s 559ms/step - loss: 0.3225 - accuracy: 0.8844 - val_loss: 0.2992 - val_accuracy: 0.8950\n",
      "Epoch 9/30\n",
      "32/32 [==============================] - 18s 573ms/step - loss: 0.2816 - accuracy: 0.8975 - val_loss: 0.2370 - val_accuracy: 0.9100\n",
      "Epoch 10/30\n",
      "32/32 [==============================] - 18s 569ms/step - loss: 0.2653 - accuracy: 0.9025 - val_loss: 0.2858 - val_accuracy: 0.9083\n",
      "Epoch 11/30\n",
      "32/32 [==============================] - 18s 572ms/step - loss: 0.2403 - accuracy: 0.9119 - val_loss: 0.2393 - val_accuracy: 0.9067\n",
      "Epoch 12/30\n",
      "32/32 [==============================] - 18s 568ms/step - loss: 0.2037 - accuracy: 0.9281 - val_loss: 0.1940 - val_accuracy: 0.9300\n",
      "Epoch 13/30\n",
      "32/32 [==============================] - 18s 564ms/step - loss: 0.1849 - accuracy: 0.9322 - val_loss: 0.1822 - val_accuracy: 0.9383\n",
      "Epoch 14/30\n",
      "32/32 [==============================] - 18s 571ms/step - loss: 0.2295 - accuracy: 0.9125 - val_loss: 0.1851 - val_accuracy: 0.9383\n",
      "Epoch 15/30\n",
      "32/32 [==============================] - 18s 569ms/step - loss: 0.2195 - accuracy: 0.9209 - val_loss: 0.2600 - val_accuracy: 0.9117\n",
      "Epoch 16/30\n",
      "32/32 [==============================] - 18s 572ms/step - loss: 0.2077 - accuracy: 0.9231 - val_loss: 0.1742 - val_accuracy: 0.9283\n",
      "Epoch 17/30\n",
      "32/32 [==============================] - 18s 568ms/step - loss: 0.1819 - accuracy: 0.9394 - val_loss: 0.2121 - val_accuracy: 0.9250\n",
      "Epoch 18/30\n",
      "32/32 [==============================] - 18s 557ms/step - loss: 0.1806 - accuracy: 0.9297 - val_loss: 0.1902 - val_accuracy: 0.9433\n",
      "Epoch 19/30\n",
      "32/32 [==============================] - 18s 555ms/step - loss: 0.1662 - accuracy: 0.9353 - val_loss: 0.1521 - val_accuracy: 0.9483\n",
      "Epoch 20/30\n",
      "32/32 [==============================] - 18s 560ms/step - loss: 0.1732 - accuracy: 0.9366 - val_loss: 0.1604 - val_accuracy: 0.9450\n",
      "Epoch 21/30\n",
      "32/32 [==============================] - 18s 557ms/step - loss: 0.1467 - accuracy: 0.9441 - val_loss: 0.1631 - val_accuracy: 0.9500\n",
      "Epoch 22/30\n",
      "32/32 [==============================] - 18s 558ms/step - loss: 0.1068 - accuracy: 0.9644 - val_loss: 0.2056 - val_accuracy: 0.9300\n",
      "Epoch 23/30\n",
      "32/32 [==============================] - 18s 557ms/step - loss: 0.1508 - accuracy: 0.9434 - val_loss: 0.1749 - val_accuracy: 0.9467\n",
      "Epoch 24/30\n",
      "32/32 [==============================] - 18s 545ms/step - loss: 0.1433 - accuracy: 0.9497 - val_loss: 0.1250 - val_accuracy: 0.9550\n",
      "Epoch 25/30\n",
      "32/32 [==============================] - 18s 555ms/step - loss: 0.1104 - accuracy: 0.9606 - val_loss: 0.1463 - val_accuracy: 0.9533\n",
      "Epoch 26/30\n",
      "32/32 [==============================] - 18s 553ms/step - loss: 0.1167 - accuracy: 0.9563 - val_loss: 0.1739 - val_accuracy: 0.9367\n",
      "Epoch 27/30\n",
      "32/32 [==============================] - 18s 551ms/step - loss: 0.1211 - accuracy: 0.9578 - val_loss: 0.1402 - val_accuracy: 0.9450\n",
      "Epoch 28/30\n",
      "32/32 [==============================] - 18s 555ms/step - loss: 0.1208 - accuracy: 0.9559 - val_loss: 0.1226 - val_accuracy: 0.9617\n",
      "Epoch 29/30\n",
      "32/32 [==============================] - 18s 556ms/step - loss: 0.0994 - accuracy: 0.9622 - val_loss: 0.1405 - val_accuracy: 0.9550\n",
      "Epoch 30/30\n",
      "32/32 [==============================] - 18s 560ms/step - loss: 0.1111 - accuracy: 0.9625 - val_loss: 0.1118 - val_accuracy: 0.9700\n"
     ]
    }
   ],
   "source": [
    "history = model.fit(\n",
    "    train_data,\n",
    "    validation_data = valid_data,\n",
    "    epochs = 30 #15\n",
    ")"
   ]
  },
  {
   "cell_type": "code",
   "execution_count": 26,
   "metadata": {},
   "outputs": [
    {
     "data": {
      "image/png": "[encoded data removed]",
      "text/plain": [
       "<Figure size 640x480 with 1 Axes>"
      ]
     },
     "metadata": {},
     "output_type": "display_data"
    },
    {
     "data": {
      "image/png": "[encoded data removed]",
      "text/plain": [
       "<Figure size 640x480 with 1 Axes>"
      ]
     },
     "metadata": {},
     "output_type": "display_data"
    }
   ],
   "source": [
    "# Plot training & validation accuracy values\n",
    "plt.plot(history.history['accuracy'])\n",
    "plt.plot(history.history['val_accuracy'])\n",
    "plt.title('Model accuracy')\n",
    "plt.ylabel('Accuracy')\n",
    "plt.xlabel('Epoch')\n",
    "plt.legend(['Train', 'Test'], loc='upper left')\n",
    "plt.show()\n",
    "\n",
    "# Plot training & validation loss values\n",
    "plt.plot(history.history['loss'])\n",
    "plt.plot(history.history['val_loss'])\n",
    "plt.title('Model loss')\n",
    "plt.ylabel('Loss')\n",
    "plt.xlabel('Epoch')\n",
    "plt.legend(['Train', 'Test'], loc='upper left')\n",
    "plt.show()"
   ]
  },
  {
   "cell_type": "code",
   "execution_count": 27,
   "metadata": {},
   "outputs": [
    {
     "name": "stdout",
     "output_type": "stream",
     "text": [
      "2/2 [==============================] - 1s 809ms/step - loss: 0.1200 - accuracy: 0.9600\n"
     ]
    },
    {
     "data": {
      "text/plain": [
       "[0.12004770338535309, 0.9599999785423279]"
      ]
     },
     "execution_count": 27,
     "metadata": {},
     "output_type": "execute_result"
    }
   ],
   "source": [
    "model.evaluate(test_data)\n"
   ]
  },
  {
   "cell_type": "markdown",
   "metadata": {},
   "source": [
    "**THE CELL BELOW IS FOR SAVING THE MODEL**"
   ]
  },
  {
   "cell_type": "code",
   "execution_count": 28,
   "metadata": {},
   "outputs": [],
   "source": [
    "model.save('FruitClassifier_64x64_NoDropout_30Epochs_Train9625%_Val97%_Test9600%(1).h5')"
   ]
  },
  {
   "cell_type": "markdown",
   "metadata": {},
   "source": [
    "**ONLY RUN THE CELL BELOW WHEN TESTING IN PC, THIS WOULD NTO WORK IN GOOGLE COLLAB**"
   ]
  },
  {
   "cell_type": "code",
   "execution_count": 146,
   "metadata": {},
   "outputs": [
    {
     "name": "stdout",
     "output_type": "stream",
     "text": [
      "1/1 [==============================] - 0s 91ms/step\n",
      "[[7.43495048e-06 1.21378265e-01 4.64634866e-01 4.13979441e-01]]\n",
      "2 0.46463487\n",
      "Prediction:  Lemon\n",
      "Confidence level:  46.463486552238464 %\n"
     ]
    }
   ],
   "source": [
    "#Testing the model\n",
    "\n",
    "Classes = ['Apple', 'Banana', 'Lemon', 'Orange']\n",
    "\n",
    "from tensorflow.keras.preprocessing.image import load_img, img_to_array\n",
    "import numpy as np\n",
    "import tkinter as tk\n",
    "from tkinter import filedialog\n",
    "\n",
    "def test_model(model):\n",
    "    root = tk.Tk()\n",
    "    root.withdraw()\n",
    "    image_path = filedialog.askopenfilename()\n",
    "\n",
    "    # Load the image\n",
    "    img = load_img(image_path, target_size=(64, 64))\n",
    "\n",
    "    # Convert the image to a numpy array\n",
    "    img_array = img_to_array(img)\n",
    "\n",
    "    # Add an extra dimension to the array\n",
    "    img_array_expanded = np.expand_dims(img_array, axis=0)\n",
    "\n",
    "    # Normalize the data\n",
    "    img_array_expanded /= 255.\n",
    "\n",
    "    # Use the model to make a prediction\n",
    "    prediction = model.predict(img_array_expanded)\n",
    "\n",
    "     # Print the prediction\n",
    "    print(prediction)\n",
    "\n",
    "    # Get the class with the highest probability\n",
    "    predicted_class = np.argmax(prediction)\n",
    "\n",
    "    confidence_level = np.max(prediction)\n",
    "\n",
    "\n",
    "    return predicted_class, confidence_level\n",
    "\n",
    "model = tf.keras.models.load_model('FruitClassifier_64x64_Dropout_30Epochs_Train9519%_Val9483%_Test9500%(1).h5')\n",
    "predicted_class, confidence_level = test_model(model)\n",
    "print(predicted_class, confidence_level)\n",
    "print(\"Prediction: \", Classes[predicted_class])\n",
    "print(\"Confidence level: \", confidence_level*100, \"%\")"
   ]
  },
  {
   "cell_type": "code",
   "execution_count": null,
   "metadata": {},
   "outputs": [],
   "source": []
  },
  {
   "cell_type": "markdown",
   "metadata": {},
   "source": [
    "**RUN THE CELL BELOW WHEN CONVERTING .H5 FILE TO TFLITE FILE**"
   ]
  },
  {
   "cell_type": "code",
   "execution_count": 29,
   "metadata": {},
   "outputs": [
    {
     "name": "stderr",
     "output_type": "stream",
     "text": [
      "WARNING:absl:Found untraced functions such as _jit_compiled_convolution_op, _jit_compiled_convolution_op, _jit_compiled_convolution_op, _jit_compiled_convolution_op while saving (showing 4 of 4). These functions will not be directly callable after loading.\n"
     ]
    },
    {
     "name": "stdout",
     "output_type": "stream",
     "text": [
      "INFO:tensorflow:Assets written to: C:\\Users\\REMBRA~1\\AppData\\Local\\Temp\\tmph3n1bpip\\assets\n"
     ]
    },
    {
     "name": "stderr",
     "output_type": "stream",
     "text": [
      "INFO:tensorflow:Assets written to: C:\\Users\\REMBRA~1\\AppData\\Local\\Temp\\tmph3n1bpip\\assets\n"
     ]
    },
    {
     "data": {
      "text/plain": [
       "2026940"
      ]
     },
     "execution_count": 29,
     "metadata": {},
     "output_type": "execute_result"
    }
   ],
   "source": [
    "\n",
    "\n",
    "model = tf.keras.models.load_model('FruitClassifier_64x64_NoDropout_30Epochs_Train9625%_Val97%_Test9600%(1).h5')\n",
    "converter = tf.lite.TFLiteConverter.from_keras_model(model)\n",
    "tflite_model = converter.convert()\n",
    "open(\"FruitClassifier_64x64_NoDropout_30Epochs_Train9625%_Val97%_Test9600%(1).tflite\", \"wb\").write(tflite_model)"
   ]
  }
 ],
 "metadata": {
  "kernelspec": {
   "display_name": ".venv",
   "language": "python",
   "name": "python3"
  },
  "language_info": {
   "codemirror_mode": {
    "name": "ipython",
    "version": 3
   },
   "file_extension": ".py",
   "mimetype": "text/x-python",
   "name": "python",
   "nbconvert_exporter": "python",
   "pygments_lexer": "ipython3",
   "version": "3.10.0"
  }
 },
 "nbformat": 4,
 "nbformat_minor": 2
}
