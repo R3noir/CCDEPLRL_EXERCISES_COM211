{
 "cells": [
  {
   "cell_type": "code",
   "execution_count": 1,
   "metadata": {},
   "outputs": [],
   "source": [
    "#Imports\n",
    "import tensorflow as tf\n",
    "import os\n",
    "import numpy as np\n",
    "import shutil\n",
    "import zipfile\n",
    "import matplotlib.pyplot as plt"
   ]
  },
  {
   "cell_type": "code",
   "execution_count": 2,
   "metadata": {},
   "outputs": [],
   "source": [
    "#Imports for TensorFlow\n",
    "from tensorflow.keras.preprocessing.image import ImageDataGenerator\n",
    "from tensorflow.keras.models import Sequential\n",
    "from tensorflow.keras.layers import Dense, Flatten, GlobalAveragePooling2D, Dropout\n",
    "from tensorflow.keras.layers import Conv2D, MaxPooling2D, Flatten, Dense, Activation, Dropout, BatchNormalization\n",
    "from tensorflow.keras import regularizers\n"
   ]
  },
  {
   "cell_type": "code",
   "execution_count": 3,
   "metadata": {},
   "outputs": [],
   "source": [
    "import os\n",
    "import shutil\n",
    "import numpy as np\n",
    "\n",
    "# Define the directories\n",
    "base_dir = os.getcwd()\n",
    "dataset_dir = os.path.join(base_dir, 'Dataset')\n",
    "dataset_split_dir = os.path.join(base_dir, 'dataset_split')\n",
    "\n",
    "# Create the split directories if they don't exist\n",
    "os.makedirs(dataset_split_dir, exist_ok=True)\n",
    "train_dir = os.path.join(dataset_split_dir, 'train')\n",
    "valid_dir = os.path.join(dataset_split_dir, 'valid')\n",
    "test_dir = os.path.join(dataset_split_dir, 'test')\n",
    "os.makedirs(train_dir, exist_ok=True)\n",
    "os.makedirs(valid_dir, exist_ok=True)\n",
    "os.makedirs(test_dir, exist_ok=True)\n",
    "\n",
    "# Get the list of all classes\n",
    "classes = os.listdir(dataset_dir)\n",
    "\n",
    "# For each class, split the files into train/valid/test\n",
    "for class_name in classes:\n",
    "    # Create directories for this class in train/valid/test\n",
    "    os.makedirs(os.path.join(train_dir, class_name), exist_ok=True)\n",
    "    os.makedirs(os.path.join(valid_dir, class_name), exist_ok=True)\n",
    "    os.makedirs(os.path.join(test_dir, class_name), exist_ok=True)\n",
    "\n",
    "    # Get a list of all files for this class\n",
    "    files = os.listdir(os.path.join(dataset_dir, class_name))\n",
    "    # Shuffle the files\n",
    "    np.random.shuffle(files)\n",
    "\n",
    "    # Split the files\n",
    "    train_files = files[:int(len(files)*0.8)]\n",
    "    valid_files = files[int(len(files)*0.8):int(len(files)*0.95)]\n",
    "    test_files = files[int(len(files)*0.95):]\n",
    "\n",
    "    # Copy the files to the right directories\n",
    "    for file in train_files:\n",
    "        shutil.copy(os.path.join(dataset_dir, class_name, file), os.path.join(train_dir, class_name, file))\n",
    "    for file in valid_files:\n",
    "        shutil.copy(os.path.join(dataset_dir, class_name, file), os.path.join(valid_dir, class_name, file))\n",
    "    for file in test_files:\n",
    "        shutil.copy(os.path.join(dataset_dir, class_name, file), os.path.join(test_dir, class_name, file))"
   ]
  },
  {
   "cell_type": "code",
   "execution_count": 3,
   "metadata": {},
   "outputs": [],
   "source": [
    "base_dir = os.getcwd() #Defining the base directory\n",
    "dataset_split_dir = os.path.join(base_dir, 'dataset_split')\n",
    "train_dir = os.path.join(dataset_split_dir, 'train')\n",
    "valid_dir = os.path.join(dataset_split_dir, 'valid')\n",
    "test_dir = os.path.join(dataset_split_dir, 'test')"
   ]
  },
  {
   "cell_type": "code",
   "execution_count": 4,
   "metadata": {},
   "outputs": [
    {
     "name": "stdout",
     "output_type": "stream",
     "text": [
      "Found 3200 images belonging to 4 classes.\n",
      "Found 600 images belonging to 4 classes.\n",
      "Found 200 images belonging to 4 classes.\n"
     ]
    }
   ],
   "source": [
    "#Train, Validation and test Data\n",
    "img_height, img_width = 64, 64\n",
    "batch_size = 100\n",
    "Train = ImageDataGenerator(rescale=1./255,\n",
    "      rotation_range=40,\n",
    "      width_shift_range=0.2,\n",
    "      height_shift_range=0.2,\n",
    "      shear_range=0.2,\n",
    "      zoom_range=0.2,\n",
    "      horizontal_flip=True,\n",
    "      fill_mode='nearest')\n",
    "Valid = ImageDataGenerator( rescale = 1.0/255. )\n",
    "Test = ImageDataGenerator( rescale = 1.0/255. )\n",
    "train_data = Train.flow_from_directory(train_dir, \n",
    "                                         target_size = (img_height, img_width), \n",
    "                                         batch_size = batch_size,\n",
    "                                         class_mode = 'categorical'\n",
    "                                         )\n",
    "valid_data = Valid.flow_from_directory(valid_dir,\n",
    "                                        target_size = (img_height, img_width),\n",
    "                                        batch_size = batch_size,\n",
    "                                        class_mode = 'categorical'\n",
    "                                        )\n",
    "test_data = Test.flow_from_directory(test_dir, \n",
    "                                            target_size = (img_height, img_width),\n",
    "                                            batch_size = batch_size,\n",
    "                                            class_mode = 'categorical'\n",
    "                                            )"
   ]
  },
  {
   "cell_type": "code",
   "execution_count": 5,
   "metadata": {},
   "outputs": [],
   "source": [
    "model = tf.keras.Sequential(\n",
    "    [\n",
    "     tf.keras.layers.Conv2D(32, 3, activation=\"relu\", input_shape=(150, 150, 3)),\n",
    "     tf.keras.layers.MaxPooling2D(2),\n",
    "     tf.keras.layers.Conv2D(32, 3, activation=\"relu\"),\n",
    "     tf.keras.layers.MaxPooling2D(2),\n",
    "     tf.keras.layers.Conv2D(32, 3, activation=\"relu\"),\n",
    "     tf.keras.layers.MaxPooling2D(2),\n",
    "     tf.keras.layers.Flatten(),\n",
    "     tf.keras.layers.Dense(128, activation=\"relu\"),\n",
    "     tf.keras.layers.Dense(4, activation=\"softmax\")\n",
    "    ]\n",
    ")\n"
   ]
  },
  {
   "cell_type": "code",
   "execution_count": 8,
   "metadata": {},
   "outputs": [],
   "source": [
    "model = tf.keras.models.Sequential([\n",
    "    # Note the input shape is the desired size of the image 150x150 with 3 bytes color\n",
    "    tf.keras.layers.Conv2D(128, 16, activation='relu', input_shape=(64, 64, 3)),\n",
    "    tf.keras.layers.MaxPooling2D(2),\n",
    "    tf.keras.layers.Conv2D(64, 8, activation='relu'),\n",
    "    tf.keras.layers.MaxPooling2D(2), \n",
    "    tf.keras.layers.Conv2D(32, 4, activation='relu'), \n",
    "    tf.keras.layers.MaxPooling2D(2),\n",
    "    tf.keras.layers.Flatten(), \n",
    "    tf.keras.layers.Dense(32, activation='relu'),\n",
    "    tf.keras.layers.Dense(4, activation='softmax')\n",
    "])"
   ]
  },
  {
   "cell_type": "code",
   "execution_count": 5,
   "metadata": {},
   "outputs": [],
   "source": [
    "model = tf.keras.models.Sequential([\n",
    "      tf.keras.layers.Conv2D(32, (3,3), input_shape=(64, 64, 3), activation='relu'),\n",
    "      tf.keras.layers.MaxPooling2D(2, 2),\n",
    "      tf.keras.layers.Conv2D(64, (3,3), activation='relu'),\n",
    "      tf.keras.layers.MaxPooling2D(2,2),\n",
    "      tf.keras.layers.Conv2D(128, (3,3), activation='relu'),\n",
    "      tf.keras.layers.MaxPooling2D(2,2),\n",
    "      tf.keras.layers.Conv2D(128, (3,3), activation='relu'),\n",
    "      tf.keras.layers.MaxPooling2D(2,2),\n",
    "      tf.keras.layers.Flatten(),\n",
    "      Dropout(0.5, seed=123),\n",
    "      tf.keras.layers.Dense(512, activation='relu'),\n",
    "      Dropout(0.6, seed=123),\n",
    "    tf.keras.layers.Dense(4, activation='softmax')\n",
    "])"
   ]
  },
  {
   "cell_type": "code",
   "execution_count": 6,
   "metadata": {},
   "outputs": [],
   "source": [
    "\n",
    "model.compile(optimizer=\"Adam\",\n",
    "    loss=\"categorical_crossentropy\",\n",
    "    metrics=['accuracy']\n",
    ")"
   ]
  },
  {
   "cell_type": "code",
   "execution_count": 8,
   "metadata": {},
   "outputs": [
    {
     "name": "stdout",
     "output_type": "stream",
     "text": [
      "Epoch 1/30\n",
      "32/32 [==============================] - 19s 597ms/step - loss: 1.2346 - accuracy: 0.4066 - val_loss: 0.7341 - val_accuracy: 0.7217\n",
      "Epoch 2/30\n",
      "32/32 [==============================] - 18s 571ms/step - loss: 0.8164 - accuracy: 0.6694 - val_loss: 0.6444 - val_accuracy: 0.7233\n",
      "Epoch 3/30\n",
      "32/32 [==============================] - 18s 571ms/step - loss: 0.6483 - accuracy: 0.7425 - val_loss: 0.5423 - val_accuracy: 0.8117\n",
      "Epoch 4/30\n",
      "32/32 [==============================] - 18s 571ms/step - loss: 0.5665 - accuracy: 0.7772 - val_loss: 0.4629 - val_accuracy: 0.8367\n",
      "Epoch 5/30\n",
      "32/32 [==============================] - 18s 583ms/step - loss: 0.5091 - accuracy: 0.8019 - val_loss: 0.4271 - val_accuracy: 0.8567\n",
      "Epoch 6/30\n",
      "32/32 [==============================] - 18s 571ms/step - loss: 0.4543 - accuracy: 0.8350 - val_loss: 0.4015 - val_accuracy: 0.8533\n",
      "Epoch 7/30\n",
      "32/32 [==============================] - 18s 567ms/step - loss: 0.4227 - accuracy: 0.8356 - val_loss: 0.3335 - val_accuracy: 0.8933\n",
      "Epoch 8/30\n",
      "32/32 [==============================] - 18s 567ms/step - loss: 0.3924 - accuracy: 0.8556 - val_loss: 0.2975 - val_accuracy: 0.8950\n",
      "Epoch 9/30\n",
      "32/32 [==============================] - 18s 570ms/step - loss: 0.3497 - accuracy: 0.8731 - val_loss: 0.3809 - val_accuracy: 0.8800\n",
      "Epoch 10/30\n",
      "32/32 [==============================] - 18s 572ms/step - loss: 0.3606 - accuracy: 0.8744 - val_loss: 0.2338 - val_accuracy: 0.9150\n",
      "Epoch 11/30\n",
      "32/32 [==============================] - 18s 566ms/step - loss: 0.2623 - accuracy: 0.8988 - val_loss: 0.2169 - val_accuracy: 0.9133\n",
      "Epoch 12/30\n",
      "32/32 [==============================] - 18s 569ms/step - loss: 0.2524 - accuracy: 0.9072 - val_loss: 0.2098 - val_accuracy: 0.9367\n",
      "Epoch 13/30\n",
      "32/32 [==============================] - 18s 570ms/step - loss: 0.2806 - accuracy: 0.8947 - val_loss: 0.2363 - val_accuracy: 0.9167\n",
      "Epoch 14/30\n",
      "32/32 [==============================] - 18s 570ms/step - loss: 0.2311 - accuracy: 0.9175 - val_loss: 0.2561 - val_accuracy: 0.9017\n",
      "Epoch 15/30\n",
      "32/32 [==============================] - 18s 575ms/step - loss: 0.2614 - accuracy: 0.9034 - val_loss: 0.2228 - val_accuracy: 0.9167\n",
      "Epoch 16/30\n",
      "32/32 [==============================] - 18s 566ms/step - loss: 0.2254 - accuracy: 0.9203 - val_loss: 0.2013 - val_accuracy: 0.9317\n",
      "Epoch 17/30\n",
      "32/32 [==============================] - 18s 562ms/step - loss: 0.2109 - accuracy: 0.9216 - val_loss: 0.1789 - val_accuracy: 0.9300\n",
      "Epoch 18/30\n",
      "32/32 [==============================] - 18s 548ms/step - loss: 0.2079 - accuracy: 0.9228 - val_loss: 0.1589 - val_accuracy: 0.9383\n",
      "Epoch 19/30\n",
      "32/32 [==============================] - 18s 554ms/step - loss: 0.1925 - accuracy: 0.9306 - val_loss: 0.3801 - val_accuracy: 0.8850\n",
      "Epoch 20/30\n",
      "32/32 [==============================] - 18s 559ms/step - loss: 0.2164 - accuracy: 0.9231 - val_loss: 0.2176 - val_accuracy: 0.9200\n",
      "Epoch 21/30\n",
      "32/32 [==============================] - 18s 559ms/step - loss: 0.1831 - accuracy: 0.9297 - val_loss: 0.1501 - val_accuracy: 0.9500\n",
      "Epoch 22/30\n",
      "32/32 [==============================] - 18s 559ms/step - loss: 0.1589 - accuracy: 0.9422 - val_loss: 0.1597 - val_accuracy: 0.9467\n",
      "Epoch 23/30\n",
      "32/32 [==============================] - 18s 563ms/step - loss: 0.1533 - accuracy: 0.9419 - val_loss: 0.1704 - val_accuracy: 0.9433\n",
      "Epoch 24/30\n",
      "32/32 [==============================] - 18s 553ms/step - loss: 0.1512 - accuracy: 0.9478 - val_loss: 0.1735 - val_accuracy: 0.9433\n",
      "Epoch 25/30\n",
      "32/32 [==============================] - 18s 554ms/step - loss: 0.1759 - accuracy: 0.9428 - val_loss: 0.1600 - val_accuracy: 0.9483\n",
      "Epoch 26/30\n",
      "32/32 [==============================] - 18s 553ms/step - loss: 0.1851 - accuracy: 0.9316 - val_loss: 0.1682 - val_accuracy: 0.9400\n",
      "Epoch 27/30\n",
      "32/32 [==============================] - 18s 555ms/step - loss: 0.1376 - accuracy: 0.9509 - val_loss: 0.1395 - val_accuracy: 0.9550\n",
      "Epoch 28/30\n",
      "32/32 [==============================] - 18s 539ms/step - loss: 0.1407 - accuracy: 0.9503 - val_loss: 0.2030 - val_accuracy: 0.9383\n",
      "Epoch 29/30\n",
      "32/32 [==============================] - 18s 555ms/step - loss: 0.1385 - accuracy: 0.9494 - val_loss: 0.1302 - val_accuracy: 0.9650\n",
      "Epoch 30/30\n",
      "32/32 [==============================] - 18s 554ms/step - loss: 0.1396 - accuracy: 0.9519 - val_loss: 0.1783 - val_accuracy: 0.9483\n"
     ]
    }
   ],
   "source": [
    "history = model.fit(\n",
    "    train_data,\n",
    "    validation_data = valid_data,\n",
    "    epochs = 30 #15\n",
    ")"
   ]
  },
  {
   "cell_type": "code",
   "execution_count": 9,
   "metadata": {},
   "outputs": [
    {
     "data": {
      "image/png": "[encoded data removed]",
      "text/plain": [
       "<Figure size 640x480 with 1 Axes>"
      ]
     },
     "metadata": {},
     "output_type": "display_data"
    },
    {
     "data": {
      "image/png": "[encoded data removed]",
      "text/plain": [
       "<Figure size 640x480 with 1 Axes>"
      ]
     },
     "metadata": {},
     "output_type": "display_data"
    }
   ],
   "source": [
    "# Plot training & validation accuracy values\n",
    "plt.plot(history.history['accuracy'])\n",
    "plt.plot(history.history['val_accuracy'])\n",
    "plt.title('Model accuracy')\n",
    "plt.ylabel('Accuracy')\n",
    "plt.xlabel('Epoch')\n",
    "plt.legend(['Train', 'Test'], loc='upper left')\n",
    "plt.show()\n",
    "\n",
    "# Plot training & validation loss values\n",
    "plt.plot(history.history['loss'])\n",
    "plt.plot(history.history['val_loss'])\n",
    "plt.title('Model loss')\n",
    "plt.ylabel('Loss')\n",
    "plt.xlabel('Epoch')\n",
    "plt.legend(['Train', 'Test'], loc='upper left')\n",
    "plt.show()"
   ]
  },
  {
   "cell_type": "code",
   "execution_count": 9,
   "metadata": {},
   "outputs": [
    {
     "name": "stdout",
     "output_type": "stream",
     "text": [
      "<function is_gpu_available at 0x00000168451A57E0>\n"
     ]
    }
   ],
   "source": [
    "print(tf.test.is_gpu_available )\n",
    "\n"
   ]
  },
  {
   "cell_type": "code",
   "execution_count": 10,
   "metadata": {},
   "outputs": [
    {
     "name": "stdout",
     "output_type": "stream",
     "text": [
      "2/2 [==============================] - 1s 170ms/step - loss: 0.1864 - accuracy: 0.9500\n"
     ]
    },
    {
     "data": {
      "text/plain": [
       "[0.18637515604496002, 0.949999988079071]"
      ]
     },
     "execution_count": 10,
     "metadata": {},
     "output_type": "execute_result"
    }
   ],
   "source": [
    "model.evaluate(test_data)\n"
   ]
  },
  {
   "cell_type": "code",
   "execution_count": 11,
   "metadata": {},
   "outputs": [],
   "source": [
    "model.save('FruitClassifier_64x64_Dropout_30Epochs_Train9519%_Val9483%_Test9500%.h5')"
   ]
  },
  {
   "cell_type": "code",
   "execution_count": 3,
   "metadata": {},
   "outputs": [
    {
     "ename": "ValueError",
     "evalue": "The channel dimension of the inputs should be defined. The input_shape received is (None, None, None, None), where axis -1 (0-based) is the channel dimension, which found to be `None`.",
     "output_type": "error",
     "traceback": [
      "\u001b[1;31m---------------------------------------------------------------------------\u001b[0m",
      "\u001b[1;31mValueError\u001b[0m                                Traceback (most recent call last)",
      "Cell \u001b[1;32mIn[3], line 41\u001b[0m\n\u001b[0;32m     36\u001b[0m     confidence_level \u001b[38;5;241m=\u001b[39m np\u001b[38;5;241m.\u001b[39mmax(prediction)\n\u001b[0;32m     39\u001b[0m     \u001b[38;5;28;01mreturn\u001b[39;00m predicted_class, confidence_level\n\u001b[1;32m---> 41\u001b[0m model \u001b[38;5;241m=\u001b[39m \u001b[43mtf\u001b[49m\u001b[38;5;241;43m.\u001b[39;49m\u001b[43mkeras\u001b[49m\u001b[38;5;241;43m.\u001b[39;49m\u001b[43mmodels\u001b[49m\u001b[38;5;241;43m.\u001b[39;49m\u001b[43mload_model\u001b[49m\u001b[43m(\u001b[49m\u001b[38;5;124;43m'\u001b[39;49m\u001b[38;5;124;43mFruitClassifier_64x64_Dropout_30Epochs_Train9519\u001b[39;49m\u001b[38;5;124;43m%\u001b[39;49m\u001b[38;5;124;43m_Val9483\u001b[39;49m\u001b[38;5;124;43m%\u001b[39;49m\u001b[38;5;124;43m_Test9500\u001b[39;49m\u001b[38;5;124;43m%\u001b[39;49m\u001b[38;5;124;43m.h5\u001b[39;49m\u001b[38;5;124;43m'\u001b[39;49m\u001b[43m)\u001b[49m\n\u001b[0;32m     42\u001b[0m predicted_class, confidence_level \u001b[38;5;241m=\u001b[39m test_model(model)\n\u001b[0;32m     43\u001b[0m \u001b[38;5;28mprint\u001b[39m(predicted_class, confidence_level)\n",
      "File \u001b[1;32mc:\\Users\\Rembrandt\\Desktop\\Apple Banana Orange Lemon\\.venv\\lib\\site-packages\\keras\\utils\\traceback_utils.py:70\u001b[0m, in \u001b[0;36mfilter_traceback.<locals>.error_handler\u001b[1;34m(*args, **kwargs)\u001b[0m\n\u001b[0;32m     67\u001b[0m     filtered_tb \u001b[38;5;241m=\u001b[39m _process_traceback_frames(e\u001b[38;5;241m.\u001b[39m__traceback__)\n\u001b[0;32m     68\u001b[0m     \u001b[38;5;66;03m# To get the full stack trace, call:\u001b[39;00m\n\u001b[0;32m     69\u001b[0m     \u001b[38;5;66;03m# `tf.debugging.disable_traceback_filtering()`\u001b[39;00m\n\u001b[1;32m---> 70\u001b[0m     \u001b[38;5;28;01mraise\u001b[39;00m e\u001b[38;5;241m.\u001b[39mwith_traceback(filtered_tb) \u001b[38;5;28;01mfrom\u001b[39;00m \u001b[38;5;28;01mNone\u001b[39;00m\n\u001b[0;32m     71\u001b[0m \u001b[38;5;28;01mfinally\u001b[39;00m:\n\u001b[0;32m     72\u001b[0m     \u001b[38;5;28;01mdel\u001b[39;00m filtered_tb\n",
      "File \u001b[1;32mc:\\Users\\Rembrandt\\Desktop\\Apple Banana Orange Lemon\\.venv\\lib\\site-packages\\keras\\layers\\convolutional\\base_conv.py:409\u001b[0m, in \u001b[0;36mConv._get_input_channel\u001b[1;34m(self, input_shape)\u001b[0m\n\u001b[0;32m    407\u001b[0m channel_axis \u001b[38;5;241m=\u001b[39m \u001b[38;5;28mself\u001b[39m\u001b[38;5;241m.\u001b[39m_get_channel_axis()\n\u001b[0;32m    408\u001b[0m \u001b[38;5;28;01mif\u001b[39;00m input_shape\u001b[38;5;241m.\u001b[39mdims[channel_axis]\u001b[38;5;241m.\u001b[39mvalue \u001b[38;5;129;01mis\u001b[39;00m \u001b[38;5;28;01mNone\u001b[39;00m:\n\u001b[1;32m--> 409\u001b[0m     \u001b[38;5;28;01mraise\u001b[39;00m \u001b[38;5;167;01mValueError\u001b[39;00m(\n\u001b[0;32m    410\u001b[0m         \u001b[38;5;124m\"\u001b[39m\u001b[38;5;124mThe channel dimension of the inputs should be defined. \u001b[39m\u001b[38;5;124m\"\u001b[39m\n\u001b[0;32m    411\u001b[0m         \u001b[38;5;124mf\u001b[39m\u001b[38;5;124m\"\u001b[39m\u001b[38;5;124mThe input_shape received is \u001b[39m\u001b[38;5;132;01m{\u001b[39;00minput_shape\u001b[38;5;132;01m}\u001b[39;00m\u001b[38;5;124m, \u001b[39m\u001b[38;5;124m\"\u001b[39m\n\u001b[0;32m    412\u001b[0m         \u001b[38;5;124mf\u001b[39m\u001b[38;5;124m\"\u001b[39m\u001b[38;5;124mwhere axis \u001b[39m\u001b[38;5;132;01m{\u001b[39;00mchannel_axis\u001b[38;5;132;01m}\u001b[39;00m\u001b[38;5;124m (0-based) \u001b[39m\u001b[38;5;124m\"\u001b[39m\n\u001b[0;32m    413\u001b[0m         \u001b[38;5;124m\"\u001b[39m\u001b[38;5;124mis the channel dimension, which found to be `None`.\u001b[39m\u001b[38;5;124m\"\u001b[39m\n\u001b[0;32m    414\u001b[0m     )\n\u001b[0;32m    415\u001b[0m \u001b[38;5;28;01mreturn\u001b[39;00m \u001b[38;5;28mint\u001b[39m(input_shape[channel_axis])\n",
      "\u001b[1;31mValueError\u001b[0m: The channel dimension of the inputs should be defined. The input_shape received is (None, None, None, None), where axis -1 (0-based) is the channel dimension, which found to be `None`."
     ]
    }
   ],
   "source": [
    "#Testing the model\n",
    "\n",
    "Classes = ['Apple', 'Banana', 'Lemon', 'Orange']\n",
    "\n",
    "from tensorflow.keras.preprocessing.image import load_img, img_to_array\n",
    "import numpy as np\n",
    "import tkinter as tk\n",
    "from tkinter import filedialog\n",
    "\n",
    "def test_model(model):\n",
    "    root = tk.Tk()\n",
    "    root.withdraw()\n",
    "    image_path = filedialog.askopenfilename()\n",
    "\n",
    "    # Load the image\n",
    "    img = load_img(image_path, target_size=(64, 64))\n",
    "\n",
    "    # Convert the image to a numpy array\n",
    "    img_array = img_to_array(img)\n",
    "\n",
    "    # Add an extra dimension to the array\n",
    "    img_array_expanded = np.expand_dims(img_array, axis=0)\n",
    "\n",
    "    # Normalize the data\n",
    "    img_array_expanded /= 255.\n",
    "\n",
    "    # Use the model to make a prediction\n",
    "    prediction = model.predict(img_array_expanded)\n",
    "\n",
    "     # Print the prediction\n",
    "    print(prediction)\n",
    "\n",
    "    # Get the class with the highest probability\n",
    "    predicted_class = np.argmax(prediction)\n",
    "\n",
    "    confidence_level = np.max(prediction)\n",
    "\n",
    "\n",
    "    return predicted_class, confidence_level\n",
    "\n",
    "model = tf.keras.models.load_model('FruitClassifier_64x64_Dropout_30Epochs_Train9519%_Val9483%_Test9500%.h5')\n",
    "predicted_class, confidence_level = test_model(model)\n",
    "print(predicted_class, confidence_level)\n",
    "print(\"Prediction: \", Classes[predicted_class])\n",
    "print(\"Confidence level: \", confidence_level*100, \"%\")"
   ]
  }
 ],
 "metadata": {
  "kernelspec": {
   "display_name": ".venv",
   "language": "python",
   "name": "python3"
  },
  "language_info": {
   "codemirror_mode": {
    "name": "ipython",
    "version": 3
   },
   "file_extension": ".py",
   "mimetype": "text/x-python",
   "name": "python",
   "nbconvert_exporter": "python",
   "pygments_lexer": "ipython3",
   "version": "3.10.0"
  }
 },
 "nbformat": 4,
 "nbformat_minor": 2
}
