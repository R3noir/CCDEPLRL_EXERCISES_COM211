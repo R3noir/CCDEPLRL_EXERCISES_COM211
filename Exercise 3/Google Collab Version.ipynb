{
  "nbformat": 4,
  "nbformat_minor": 0,
  "metadata": {
    "colab": {
      "provenance": [],
      "gpuType": "T4"
    },
    "kernelspec": {
      "name": "python3",
      "display_name": "Python 3"
    },
    "language_info": {
      "name": "python"
    },
    "accelerator": "GPU"
  },
  "cells": [
    {
      "cell_type": "code",
      "source": [
        "import tensorflow as tf\n",
        "import os\n",
        "import numpy as np\n",
        "import shutil\n",
        "import zipfile\n",
        "import matplotlib.pyplot as plt\n",
        "import gdown\n",
        "from google.colab import files\n",
        "from keras.preprocessing import image"
      ],
      "metadata": {
        "id": "Ww0-YJLaxAOm"
      },
      "execution_count": 3,
      "outputs": []
    },
    {
      "cell_type": "code",
      "source": [
        "from tensorflow.keras.preprocessing.image import ImageDataGenerator\n",
        "from tensorflow.keras.models import Sequential\n",
        "from tensorflow.keras.layers import Dense, Flatten, GlobalAveragePooling2D, Dropout\n",
        "from tensorflow.keras.layers import Conv2D, MaxPooling2D, Flatten, Dense, Activation, Dropout, BatchNormalization\n",
        "from tensorflow.keras import regularizers"
      ],
      "metadata": {
        "id": "Emx10mjVy0mm"
      },
      "execution_count": 4,
      "outputs": []
    },
    {
      "cell_type": "markdown",
      "source": [
        "# **Download and extracting the dataset**"
      ],
      "metadata": {
        "id": "9G5LRF-BySoG"
      }
    },
    {
      "cell_type": "code",
      "source": [
        "\n",
        "dataset = 'https://drive.google.com/uc?id=1TEAQ2N_ANLTR36-gZ6QsbB7nAtUpqoMS'\n",
        "output = 'dataset_split.zip'\n",
        "gdown.download(dataset, output, quiet=False)"
      ],
      "metadata": {
        "colab": {
          "base_uri": "https://localhost:8080/",
          "height": 122
        },
        "id": "XlH9AAhWxDlY",
        "outputId": "01b44069-b933-486d-f9a1-47e8ca75000a"
      },
      "execution_count": 5,
      "outputs": [
        {
          "output_type": "stream",
          "name": "stderr",
          "text": [
            "Downloading...\n",
            "From (original): https://drive.google.com/uc?id=1TEAQ2N_ANLTR36-gZ6QsbB7nAtUpqoMS\n",
            "From (redirected): https://drive.google.com/uc?id=1TEAQ2N_ANLTR36-gZ6QsbB7nAtUpqoMS&confirm=t&uuid=1028b46f-20c2-4626-be6c-15592a22e830\n",
            "To: /content/dataset_split.zip\n",
            "100%|██████████| 362M/362M [00:02<00:00, 139MB/s] \n"
          ]
        },
        {
          "output_type": "execute_result",
          "data": {
            "text/plain": [
              "'dataset_split.zip'"
            ],
            "application/vnd.google.colaboratory.intrinsic+json": {
              "type": "string"
            }
          },
          "metadata": {},
          "execution_count": 5
        }
      ]
    },
    {
      "cell_type": "code",
      "source": [
        "base_dir = os.getcwd()\n",
        "zip_file = os.path.join(base_dir, 'dataset_split.zip')\n",
        "\n",
        "# Extract the zip file\n",
        "with zipfile.ZipFile(zip_file, 'r') as zip_ref:\n",
        "    zip_ref.extractall(base_dir)"
      ],
      "metadata": {
        "id": "eWdLbgEKyVDT"
      },
      "execution_count": 6,
      "outputs": []
    },
    {
      "cell_type": "code",
      "source": [
        "dataset_split_dir = os.path.join(base_dir, 'dataset_split')\n",
        "train_dir = os.path.join(dataset_split_dir, 'train')\n",
        "valid_dir = os.path.join(dataset_split_dir, 'valid')\n",
        "test_dir = os.path.join(dataset_split_dir, 'test')"
      ],
      "metadata": {
        "id": "A7WtlYxXylQ0"
      },
      "execution_count": 7,
      "outputs": []
    },
    {
      "cell_type": "markdown",
      "source": [
        "# **Setting Training, Validaton, and Testing Data**"
      ],
      "metadata": {
        "id": "R1s3iUT3yq7b"
      }
    },
    {
      "cell_type": "code",
      "source": [
        "#Train, Validation and test Data\n",
        "img_height, img_width = 64, 64\n",
        "batch_size = 100\n",
        "Train = ImageDataGenerator(rescale=1./255,\n",
        "      rotation_range=40,\n",
        "      width_shift_range=0.2,\n",
        "      height_shift_range=0.2,\n",
        "      shear_range=0.2,\n",
        "      zoom_range=0.2,\n",
        "      horizontal_flip=True,\n",
        "      fill_mode='nearest')\n",
        "Valid = ImageDataGenerator( rescale = 1.0/255. )\n",
        "Test = ImageDataGenerator( rescale = 1.0/255. )\n",
        "train_data = Train.flow_from_directory(train_dir,\n",
        "                                         target_size = (img_height, img_width),\n",
        "                                         batch_size = batch_size,\n",
        "                                         class_mode = 'categorical'\n",
        "                                         )\n",
        "valid_data = Valid.flow_from_directory(valid_dir,\n",
        "                                        target_size = (img_height, img_width),\n",
        "                                        batch_size = batch_size,\n",
        "                                        class_mode = 'categorical'\n",
        "                                        )\n",
        "test_data = Test.flow_from_directory(test_dir,\n",
        "                                            target_size = (img_height, img_width),\n",
        "                                            batch_size = batch_size,\n",
        "                                            class_mode = 'categorical'\n",
        "                                            )"
      ],
      "metadata": {
        "colab": {
          "base_uri": "https://localhost:8080/"
        },
        "id": "mzSVRVXEyxYL",
        "outputId": "1e1d96c9-cc0a-473a-8492-8e4e6e0cbc8e"
      },
      "execution_count": 8,
      "outputs": [
        {
          "output_type": "stream",
          "name": "stdout",
          "text": [
            "Found 3200 images belonging to 4 classes.\n",
            "Found 600 images belonging to 4 classes.\n",
            "Found 200 images belonging to 4 classes.\n"
          ]
        }
      ]
    },
    {
      "cell_type": "markdown",
      "source": [
        "# **Defining the Model**"
      ],
      "metadata": {
        "id": "4HumjyX8y6mo"
      }
    },
    {
      "cell_type": "code",
      "source": [
        "model = tf.keras.models.Sequential([\n",
        "      tf.keras.layers.Conv2D(32, (3,3), input_shape=(64, 64, 3), activation='relu'),\n",
        "      tf.keras.layers.MaxPooling2D(2, 2),\n",
        "      tf.keras.layers.Conv2D(64, (3,3), activation='relu'),\n",
        "      tf.keras.layers.MaxPooling2D(2,2),\n",
        "      tf.keras.layers.Conv2D(128, (3,3), activation='relu'),\n",
        "      tf.keras.layers.MaxPooling2D(2,2),\n",
        "      tf.keras.layers.Conv2D(128, (3,3), activation='relu'),\n",
        "      tf.keras.layers.MaxPooling2D(2,2),\n",
        "      tf.keras.layers.Flatten(),\n",
        "      #Dropout(0.5, seed=123),\n",
        "      tf.keras.layers.Dense(512, activation='relu'),\n",
        "      #Dropout(0.6, seed=123),\n",
        "    tf.keras.layers.Dense(4, activation='softmax')\n",
        "])"
      ],
      "metadata": {
        "id": "48Wkygbky3cO"
      },
      "execution_count": 9,
      "outputs": []
    },
    {
      "cell_type": "code",
      "source": [
        "model.compile(\n",
        "    optimizer=\"adam\",\n",
        "    loss=\"categorical_crossentropy\",\n",
        "    metrics=['accuracy']\n",
        ")"
      ],
      "metadata": {
        "id": "aCxljb3gD12P"
      },
      "execution_count": 10,
      "outputs": []
    },
    {
      "cell_type": "markdown",
      "source": [
        "*Below is the modified-given model which was not used but can still be compiled using the same optimizer but a different loss function (Was Sparse Categorical Cross Entropy);*"
      ],
      "metadata": {
        "id": "myXHQWJMHOYv"
      }
    },
    {
      "cell_type": "code",
      "source": [
        "model = tf.keras.Sequential(\n",
        "    [\n",
        "     tf.keras.layers.Conv2D(32, 3, activation=\"relu\"),\n",
        "     tf.keras.layers.MaxPooling2D(),\n",
        "     tf.keras.layers.Conv2D(32, 3, activation=\"relu\"),\n",
        "     tf.keras.layers.MaxPooling2D(),\n",
        "     tf.keras.layers.Conv2D(32, 3, activation=\"relu\"),\n",
        "     tf.keras.layers.MaxPooling2D(),\n",
        "     tf.keras.layers.Flatten(),\n",
        "     tf.keras.layers.Dense(128, activation=\"relu\"),\n",
        "     tf.keras.layers.Dense(4)\n",
        "    ]\n",
        ")"
      ],
      "metadata": {
        "id": "DDmsMkonDbuB"
      },
      "execution_count": 17,
      "outputs": []
    },
    {
      "cell_type": "code",
      "source": [
        "model.compile(\n",
        "    optimizer=\"adam\",\n",
        "    loss=\"categorical_crossentropy\",\n",
        "    metrics=['accuracy']\n",
        ")"
      ],
      "metadata": {
        "id": "vk9AnX8cL5v0"
      },
      "execution_count": null,
      "outputs": []
    },
    {
      "cell_type": "markdown",
      "source": [
        "# **Training the Model**"
      ],
      "metadata": {
        "id": "_16tb-BNzGIp"
      }
    },
    {
      "cell_type": "code",
      "source": [
        "history = model.fit(\n",
        "    train_data,\n",
        "    validation_data = valid_data,\n",
        "    epochs = 30 #15\n",
        ")"
      ],
      "metadata": {
        "colab": {
          "base_uri": "https://localhost:8080/"
        },
        "id": "3HV5CeMAzGQb",
        "outputId": "8e33c892-8340-489c-ff27-d505aaa72e74"
      },
      "execution_count": 11,
      "outputs": [
        {
          "output_type": "stream",
          "name": "stdout",
          "text": [
            "Epoch 1/30\n",
            "32/32 [==============================] - 28s 755ms/step - loss: 1.2911 - accuracy: 0.3756 - val_loss: 1.1086 - val_accuracy: 0.5233\n",
            "Epoch 2/30\n",
            "32/32 [==============================] - 24s 750ms/step - loss: 0.9064 - accuracy: 0.6338 - val_loss: 0.6899 - val_accuracy: 0.7017\n",
            "Epoch 3/30\n",
            "32/32 [==============================] - 23s 742ms/step - loss: 0.6763 - accuracy: 0.7306 - val_loss: 0.7546 - val_accuracy: 0.7100\n",
            "Epoch 4/30\n",
            "32/32 [==============================] - 26s 811ms/step - loss: 0.5949 - accuracy: 0.7781 - val_loss: 0.4911 - val_accuracy: 0.8217\n",
            "Epoch 5/30\n",
            "32/32 [==============================] - 24s 747ms/step - loss: 0.4950 - accuracy: 0.8191 - val_loss: 0.4453 - val_accuracy: 0.8317\n",
            "Epoch 6/30\n",
            "32/32 [==============================] - 24s 756ms/step - loss: 0.4200 - accuracy: 0.8353 - val_loss: 0.4224 - val_accuracy: 0.8167\n",
            "Epoch 7/30\n",
            "32/32 [==============================] - 23s 729ms/step - loss: 0.3819 - accuracy: 0.8612 - val_loss: 0.3751 - val_accuracy: 0.8617\n",
            "Epoch 8/30\n",
            "32/32 [==============================] - 23s 723ms/step - loss: 0.3406 - accuracy: 0.8769 - val_loss: 0.2890 - val_accuracy: 0.9033\n",
            "Epoch 9/30\n",
            "32/32 [==============================] - 24s 729ms/step - loss: 0.3424 - accuracy: 0.8778 - val_loss: 0.2940 - val_accuracy: 0.8967\n",
            "Epoch 10/30\n",
            "32/32 [==============================] - 23s 731ms/step - loss: 0.3353 - accuracy: 0.8728 - val_loss: 0.3084 - val_accuracy: 0.8917\n",
            "Epoch 11/30\n",
            "32/32 [==============================] - 23s 679ms/step - loss: 0.2812 - accuracy: 0.8916 - val_loss: 0.2715 - val_accuracy: 0.9067\n",
            "Epoch 12/30\n",
            "32/32 [==============================] - 24s 752ms/step - loss: 0.2842 - accuracy: 0.8981 - val_loss: 0.2788 - val_accuracy: 0.8933\n",
            "Epoch 13/30\n",
            "32/32 [==============================] - 24s 756ms/step - loss: 0.2499 - accuracy: 0.9078 - val_loss: 0.1966 - val_accuracy: 0.9300\n",
            "Epoch 14/30\n",
            "32/32 [==============================] - 24s 739ms/step - loss: 0.2158 - accuracy: 0.9156 - val_loss: 0.1953 - val_accuracy: 0.9150\n",
            "Epoch 15/30\n",
            "32/32 [==============================] - 24s 753ms/step - loss: 0.2146 - accuracy: 0.9194 - val_loss: 0.1982 - val_accuracy: 0.9317\n",
            "Epoch 16/30\n",
            "32/32 [==============================] - 24s 772ms/step - loss: 0.2105 - accuracy: 0.9250 - val_loss: 0.2951 - val_accuracy: 0.9083\n",
            "Epoch 17/30\n",
            "32/32 [==============================] - 24s 758ms/step - loss: 0.2211 - accuracy: 0.9231 - val_loss: 0.1891 - val_accuracy: 0.9400\n",
            "Epoch 18/30\n",
            "32/32 [==============================] - 24s 752ms/step - loss: 0.1773 - accuracy: 0.9359 - val_loss: 0.1468 - val_accuracy: 0.9483\n",
            "Epoch 19/30\n",
            "32/32 [==============================] - 24s 744ms/step - loss: 0.1843 - accuracy: 0.9334 - val_loss: 0.1711 - val_accuracy: 0.9467\n",
            "Epoch 20/30\n",
            "32/32 [==============================] - 24s 756ms/step - loss: 0.1609 - accuracy: 0.9403 - val_loss: 0.1785 - val_accuracy: 0.9300\n",
            "Epoch 21/30\n",
            "32/32 [==============================] - 24s 765ms/step - loss: 0.1458 - accuracy: 0.9463 - val_loss: 0.1557 - val_accuracy: 0.9517\n",
            "Epoch 22/30\n",
            "32/32 [==============================] - 24s 758ms/step - loss: 0.1510 - accuracy: 0.9406 - val_loss: 0.3684 - val_accuracy: 0.8783\n",
            "Epoch 23/30\n",
            "32/32 [==============================] - 24s 721ms/step - loss: 0.1598 - accuracy: 0.9463 - val_loss: 0.1481 - val_accuracy: 0.9567\n",
            "Epoch 24/30\n",
            "32/32 [==============================] - 25s 777ms/step - loss: 0.1486 - accuracy: 0.9447 - val_loss: 0.1419 - val_accuracy: 0.9500\n",
            "Epoch 25/30\n",
            "32/32 [==============================] - 24s 762ms/step - loss: 0.1403 - accuracy: 0.9534 - val_loss: 0.1774 - val_accuracy: 0.9500\n",
            "Epoch 26/30\n",
            "32/32 [==============================] - 25s 777ms/step - loss: 0.1461 - accuracy: 0.9491 - val_loss: 0.1471 - val_accuracy: 0.9500\n",
            "Epoch 27/30\n",
            "32/32 [==============================] - 24s 745ms/step - loss: 0.1258 - accuracy: 0.9588 - val_loss: 0.1803 - val_accuracy: 0.9417\n",
            "Epoch 28/30\n",
            "32/32 [==============================] - 24s 746ms/step - loss: 0.1126 - accuracy: 0.9609 - val_loss: 0.1050 - val_accuracy: 0.9650\n",
            "Epoch 29/30\n",
            "32/32 [==============================] - 24s 732ms/step - loss: 0.1616 - accuracy: 0.9447 - val_loss: 0.1365 - val_accuracy: 0.9617\n",
            "Epoch 30/30\n",
            "32/32 [==============================] - 24s 729ms/step - loss: 0.1051 - accuracy: 0.9619 - val_loss: 0.1213 - val_accuracy: 0.9583\n"
          ]
        }
      ]
    },
    {
      "cell_type": "markdown",
      "source": [
        "# **Visualizing Accuracy and Loss Over Time**"
      ],
      "metadata": {
        "id": "9pB72ZJOzJIN"
      }
    },
    {
      "cell_type": "code",
      "source": [
        "# Plot training & validation accuracy values\n",
        "plt.plot(history.history['accuracy'])\n",
        "plt.plot(history.history['val_accuracy'])\n",
        "plt.title('Model accuracy')\n",
        "plt.ylabel('Accuracy')\n",
        "plt.xlabel('Epoch')\n",
        "plt.legend(['Train', 'Test'], loc='upper left')\n",
        "plt.show()\n",
        "\n",
        "# Plot training & validation loss values\n",
        "plt.plot(history.history['loss'])\n",
        "plt.plot(history.history['val_loss'])\n",
        "plt.title('Model loss')\n",
        "plt.ylabel('Loss')\n",
        "plt.xlabel('Epoch')\n",
        "plt.legend(['Train', 'Test'], loc='upper left')\n",
        "plt.show()"
      ],
      "metadata": {
        "id": "fWhe44iozJax",
        "colab": {
          "base_uri": "https://localhost:8080/",
          "height": 927
        },
        "outputId": "7000e29e-5603-499e-ea03-0420c6fe432b"
      },
      "execution_count": 13,
      "outputs": [
        {
          "output_type": "display_data",
          "data": {
            "text/plain": [
              "<Figure size 640x480 with 1 Axes>"
            ],
            "image/png": "[encoded data removed]"
          },
          "metadata": {}
        },
        {
          "output_type": "display_data",
          "data": {
            "text/plain": [
              "<Figure size 640x480 with 1 Axes>"
            ],
            "image/png": "[encoded data removed]"
          },
          "metadata": {}
        }
      ]
    },
    {
      "cell_type": "markdown",
      "source": [
        "# **Evaluating the Model**"
      ],
      "metadata": {
        "id": "-cAFmJr_zVTa"
      }
    },
    {
      "cell_type": "code",
      "source": [
        "model.evaluate(test_data)"
      ],
      "metadata": {
        "id": "FjY6QY4OzVGR",
        "colab": {
          "base_uri": "https://localhost:8080/"
        },
        "outputId": "67704194-0b52-4101-c579-b0eb0623e772"
      },
      "execution_count": 15,
      "outputs": [
        {
          "output_type": "stream",
          "name": "stdout",
          "text": [
            "2/2 [==============================] - 1s 409ms/step - loss: 0.1630 - accuracy: 0.9600\n"
          ]
        },
        {
          "output_type": "execute_result",
          "data": {
            "text/plain": [
              "[0.16302217543125153, 0.9599999785423279]"
            ]
          },
          "metadata": {},
          "execution_count": 15
        }
      ]
    },
    {
      "cell_type": "markdown",
      "source": [
        "# **Test the Model with uploaded photos**"
      ],
      "metadata": {
        "id": "ChW19S_AzjnY"
      }
    },
    {
      "cell_type": "code",
      "source": [
        "Classes = ['Apple', 'Banana', 'Lemon', 'Orange']\n",
        "\n",
        "\n",
        "# Upload the image\n",
        "uploaded = files.upload()\n",
        "\n",
        "# Get the filename\n",
        "filename = next(iter(uploaded))\n",
        "\n",
        "# Load the image\n",
        "img = image.load_img(filename, target_size=(64, 64))\n",
        "\n",
        "# Convert the image to a numpy array\n",
        "img_array = image.img_to_array(img)\n",
        "\n",
        "# Add an extra dimension to the array\n",
        "img_array_expanded = np.expand_dims(img_array, axis=0)\n",
        "\n",
        "# Normalize the data\n",
        "img_array_expanded /= 255.\n",
        "\n",
        "# Use the model to make a prediction\n",
        "prediction = model.predict(img_array_expanded)\n",
        "\n",
        "# Get the class with the highest probability\n",
        "predicted_class = np.argmax(prediction)\n",
        "\n",
        "confidence_level = np.max(prediction)\n",
        "\n",
        "# Print the predicted class and the confidence level\n",
        "print(\"Predicted class: \", Classes[predicted_class])\n",
        "print(\"Confidence level: \", confidence_level*100, \"%\")"
      ],
      "metadata": {
        "colab": {
          "base_uri": "https://localhost:8080/",
          "height": 125
        },
        "id": "dVh4wUZwzixS",
        "outputId": "832fadf7-263a-4905-b469-349ff9c45bf6"
      },
      "execution_count": null,
      "outputs": [
        {
          "output_type": "display_data",
          "data": {
            "text/plain": [
              "<IPython.core.display.HTML object>"
            ],
            "text/html": [
              "\n",
              "     <input type=\"file\" id=\"files-581c5170-492b-42a5-b10f-d9a7ea33ec51\" name=\"files[]\" multiple disabled\n",
              "        style=\"border:none\" />\n",
              "     <output id=\"result-581c5170-492b-42a5-b10f-d9a7ea33ec51\">\n",
              "      Upload widget is only available when the cell has been executed in the\n",
              "      current browser session. Please rerun this cell to enable.\n",
              "      </output>\n",
              "      <script>// Copyright 2017 Google LLC\n",
              "//\n",
              "// Licensed under the Apache License, Version 2.0 (the \"License\");\n",
              "// you may not use this file except in compliance with the License.\n",
              "// You may obtain a copy of the License at\n",
              "//\n",
              "//      http://www.apache.org/licenses/LICENSE-2.0\n",
              "//\n",
              "// Unless required by applicable law or agreed to in writing, software\n",
              "// distributed under the License is distributed on an \"AS IS\" BASIS,\n",
              "// WITHOUT WARRANTIES OR CONDITIONS OF ANY KIND, either express or implied.\n",
              "// See the License for the specific language governing permissions and\n",
              "// limitations under the License.\n",
              "\n",
              "/**\n",
              " * @fileoverview Helpers for google.colab Python module.\n",
              " */\n",
              "(function(scope) {\n",
              "function span(text, styleAttributes = {}) {\n",
              "  const element = document.createElement('span');\n",
              "  element.textContent = text;\n",
              "  for (const key of Object.keys(styleAttributes)) {\n",
              "    element.style[key] = styleAttributes[key];\n",
              "  }\n",
              "  return element;\n",
              "}\n",
              "\n",
              "// Max number of bytes which will be uploaded at a time.\n",
              "const MAX_PAYLOAD_SIZE = 100 * 1024;\n",
              "\n",
              "function _uploadFiles(inputId, outputId) {\n",
              "  const steps = uploadFilesStep(inputId, outputId);\n",
              "  const outputElement = document.getElementById(outputId);\n",
              "  // Cache steps on the outputElement to make it available for the next call\n",
              "  // to uploadFilesContinue from Python.\n",
              "  outputElement.steps = steps;\n",
              "\n",
              "  return _uploadFilesContinue(outputId);\n",
              "}\n",
              "\n",
              "// This is roughly an async generator (not supported in the browser yet),\n",
              "// where there are multiple asynchronous steps and the Python side is going\n",
              "// to poll for completion of each step.\n",
              "// This uses a Promise to block the python side on completion of each step,\n",
              "// then passes the result of the previous step as the input to the next step.\n",
              "function _uploadFilesContinue(outputId) {\n",
              "  const outputElement = document.getElementById(outputId);\n",
              "  const steps = outputElement.steps;\n",
              "\n",
              "  const next = steps.next(outputElement.lastPromiseValue);\n",
              "  return Promise.resolve(next.value.promise).then((value) => {\n",
              "    // Cache the last promise value to make it available to the next\n",
              "    // step of the generator.\n",
              "    outputElement.lastPromiseValue = value;\n",
              "    return next.value.response;\n",
              "  });\n",
              "}\n",
              "\n",
              "/**\n",
              " * Generator function which is called between each async step of the upload\n",
              " * process.\n",
              " * @param {string} inputId Element ID of the input file picker element.\n",
              " * @param {string} outputId Element ID of the output display.\n",
              " * @return {!Iterable<!Object>} Iterable of next steps.\n",
              " */\n",
              "function* uploadFilesStep(inputId, outputId) {\n",
              "  const inputElement = document.getElementById(inputId);\n",
              "  inputElement.disabled = false;\n",
              "\n",
              "  const outputElement = document.getElementById(outputId);\n",
              "  outputElement.innerHTML = '';\n",
              "\n",
              "  const pickedPromise = new Promise((resolve) => {\n",
              "    inputElement.addEventListener('change', (e) => {\n",
              "      resolve(e.target.files);\n",
              "    });\n",
              "  });\n",
              "\n",
              "  const cancel = document.createElement('button');\n",
              "  inputElement.parentElement.appendChild(cancel);\n",
              "  cancel.textContent = 'Cancel upload';\n",
              "  const cancelPromise = new Promise((resolve) => {\n",
              "    cancel.onclick = () => {\n",
              "      resolve(null);\n",
              "    };\n",
              "  });\n",
              "\n",
              "  // Wait for the user to pick the files.\n",
              "  const files = yield {\n",
              "    promise: Promise.race([pickedPromise, cancelPromise]),\n",
              "    response: {\n",
              "      action: 'starting',\n",
              "    }\n",
              "  };\n",
              "\n",
              "  cancel.remove();\n",
              "\n",
              "  // Disable the input element since further picks are not allowed.\n",
              "  inputElement.disabled = true;\n",
              "\n",
              "  if (!files) {\n",
              "    return {\n",
              "      response: {\n",
              "        action: 'complete',\n",
              "      }\n",
              "    };\n",
              "  }\n",
              "\n",
              "  for (const file of files) {\n",
              "    const li = document.createElement('li');\n",
              "    li.append(span(file.name, {fontWeight: 'bold'}));\n",
              "    li.append(span(\n",
              "        `(${file.type || 'n/a'}) - ${file.size} bytes, ` +\n",
              "        `last modified: ${\n",
              "            file.lastModifiedDate ? file.lastModifiedDate.toLocaleDateString() :\n",
              "                                    'n/a'} - `));\n",
              "    const percent = span('0% done');\n",
              "    li.appendChild(percent);\n",
              "\n",
              "    outputElement.appendChild(li);\n",
              "\n",
              "    const fileDataPromise = new Promise((resolve) => {\n",
              "      const reader = new FileReader();\n",
              "      reader.onload = (e) => {\n",
              "        resolve(e.target.result);\n",
              "      };\n",
              "      reader.readAsArrayBuffer(file);\n",
              "    });\n",
              "    // Wait for the data to be ready.\n",
              "    let fileData = yield {\n",
              "      promise: fileDataPromise,\n",
              "      response: {\n",
              "        action: 'continue',\n",
              "      }\n",
              "    };\n",
              "\n",
              "    // Use a chunked sending to avoid message size limits. See b/62115660.\n",
              "    let position = 0;\n",
              "    do {\n",
              "      const length = Math.min(fileData.byteLength - position, MAX_PAYLOAD_SIZE);\n",
              "      const chunk = new Uint8Array(fileData, position, length);\n",
              "      position += length;\n",
              "\n",
              "      const base64 = btoa(String.fromCharCode.apply(null, chunk));\n",
              "      yield {\n",
              "        response: {\n",
              "          action: 'append',\n",
              "          file: file.name,\n",
              "          data: base64,\n",
              "        },\n",
              "      };\n",
              "\n",
              "      let percentDone = fileData.byteLength === 0 ?\n",
              "          100 :\n",
              "          Math.round((position / fileData.byteLength) * 100);\n",
              "      percent.textContent = `${percentDone}% done`;\n",
              "\n",
              "    } while (position < fileData.byteLength);\n",
              "  }\n",
              "\n",
              "  // All done.\n",
              "  yield {\n",
              "    response: {\n",
              "      action: 'complete',\n",
              "    }\n",
              "  };\n",
              "}\n",
              "\n",
              "scope.google = scope.google || {};\n",
              "scope.google.colab = scope.google.colab || {};\n",
              "scope.google.colab._files = {\n",
              "  _uploadFiles,\n",
              "  _uploadFilesContinue,\n",
              "};\n",
              "})(self);\n",
              "</script> "
            ]
          },
          "metadata": {}
        },
        {
          "output_type": "stream",
          "name": "stdout",
          "text": [
            "Saving LEMON_-_CITRUS_LIMON__33129.webp to LEMON_-_CITRUS_LIMON__33129.webp\n",
            "1/1 [==============================] - 0s 385ms/step\n",
            "Predicted class:  Lemon\n",
            "Confidence level:  99.90777969360352 %\n"
          ]
        }
      ]
    },
    {
      "cell_type": "markdown",
      "source": [
        "# **Saving the Model and Converting to Tflite**"
      ],
      "metadata": {
        "id": "rMBhdLWKIz_T"
      }
    },
    {
      "cell_type": "code",
      "source": [
        "model.save('Lemon-Model.h5')\n",
        "files.download('Lemon-Model.h5')\n",
        "print(\"Model saved\")"
      ],
      "metadata": {
        "colab": {
          "base_uri": "https://localhost:8080/",
          "height": 89
        },
        "id": "eJOgXvo1HjuG",
        "outputId": "fd7a3089-919e-4538-8c95-9063be62a4ea"
      },
      "execution_count": 16,
      "outputs": [
        {
          "output_type": "stream",
          "name": "stderr",
          "text": [
            "/usr/local/lib/python3.10/dist-packages/keras/src/engine/training.py:3103: UserWarning: You are saving your model as an HDF5 file via `model.save()`. This file format is considered legacy. We recommend using instead the native Keras format, e.g. `model.save('my_model.keras')`.\n",
            "  saving_api.save_model(\n"
          ]
        },
        {
          "output_type": "display_data",
          "data": {
            "text/plain": [
              "<IPython.core.display.Javascript object>"
            ],
            "application/javascript": [
              "\n",
              "    async function download(id, filename, size) {\n",
              "      if (!google.colab.kernel.accessAllowed) {\n",
              "        return;\n",
              "      }\n",
              "      const div = document.createElement('div');\n",
              "      const label = document.createElement('label');\n",
              "      label.textContent = `Downloading \"${filename}\": `;\n",
              "      div.appendChild(label);\n",
              "      const progress = document.createElement('progress');\n",
              "      progress.max = size;\n",
              "      div.appendChild(progress);\n",
              "      document.body.appendChild(div);\n",
              "\n",
              "      const buffers = [];\n",
              "      let downloaded = 0;\n",
              "\n",
              "      const channel = await google.colab.kernel.comms.open(id);\n",
              "      // Send a message to notify the kernel that we're ready.\n",
              "      channel.send({})\n",
              "\n",
              "      for await (const message of channel.messages) {\n",
              "        // Send a message to notify the kernel that we're ready.\n",
              "        channel.send({})\n",
              "        if (message.buffers) {\n",
              "          for (const buffer of message.buffers) {\n",
              "            buffers.push(buffer);\n",
              "            downloaded += buffer.byteLength;\n",
              "            progress.value = downloaded;\n",
              "          }\n",
              "        }\n",
              "      }\n",
              "      const blob = new Blob(buffers, {type: 'application/binary'});\n",
              "      const a = document.createElement('a');\n",
              "      a.href = window.URL.createObjectURL(blob);\n",
              "      a.download = filename;\n",
              "      div.appendChild(a);\n",
              "      a.click();\n",
              "      div.remove();\n",
              "    }\n",
              "  "
            ]
          },
          "metadata": {}
        },
        {
          "output_type": "display_data",
          "data": {
            "text/plain": [
              "<IPython.core.display.Javascript object>"
            ],
            "application/javascript": [
              "download(\"download_b15015aa-a01e-4791-8bcd-471c992de813\", \"Lemon-Model.h5\", 6125720)"
            ]
          },
          "metadata": {}
        },
        {
          "output_type": "stream",
          "name": "stdout",
          "text": [
            "Model saved\n"
          ]
        }
      ]
    },
    {
      "cell_type": "code",
      "source": [
        "model.save('Lemon-Model.keras')\n",
        "files.download('Lemon-Model.keras')\n",
        "print(\"Model saved\")"
      ],
      "metadata": {
        "colab": {
          "base_uri": "https://localhost:8080/",
          "height": 34
        },
        "id": "ym6UW_DXQsUT",
        "outputId": "e9c23d39-bb77-4acc-8287-e240a651a345"
      },
      "execution_count": 17,
      "outputs": [
        {
          "output_type": "display_data",
          "data": {
            "text/plain": [
              "<IPython.core.display.Javascript object>"
            ],
            "application/javascript": [
              "\n",
              "    async function download(id, filename, size) {\n",
              "      if (!google.colab.kernel.accessAllowed) {\n",
              "        return;\n",
              "      }\n",
              "      const div = document.createElement('div');\n",
              "      const label = document.createElement('label');\n",
              "      label.textContent = `Downloading \"${filename}\": `;\n",
              "      div.appendChild(label);\n",
              "      const progress = document.createElement('progress');\n",
              "      progress.max = size;\n",
              "      div.appendChild(progress);\n",
              "      document.body.appendChild(div);\n",
              "\n",
              "      const buffers = [];\n",
              "      let downloaded = 0;\n",
              "\n",
              "      const channel = await google.colab.kernel.comms.open(id);\n",
              "      // Send a message to notify the kernel that we're ready.\n",
              "      channel.send({})\n",
              "\n",
              "      for await (const message of channel.messages) {\n",
              "        // Send a message to notify the kernel that we're ready.\n",
              "        channel.send({})\n",
              "        if (message.buffers) {\n",
              "          for (const buffer of message.buffers) {\n",
              "            buffers.push(buffer);\n",
              "            downloaded += buffer.byteLength;\n",
              "            progress.value = downloaded;\n",
              "          }\n",
              "        }\n",
              "      }\n",
              "      const blob = new Blob(buffers, {type: 'application/binary'});\n",
              "      const a = document.createElement('a');\n",
              "      a.href = window.URL.createObjectURL(blob);\n",
              "      a.download = filename;\n",
              "      div.appendChild(a);\n",
              "      a.click();\n",
              "      div.remove();\n",
              "    }\n",
              "  "
            ]
          },
          "metadata": {}
        },
        {
          "output_type": "display_data",
          "data": {
            "text/plain": [
              "<IPython.core.display.Javascript object>"
            ],
            "application/javascript": [
              "download(\"download_d56a87f3-62ca-4ce2-94b8-04ab0d2f940b\", \"Lemon-Model.keras\", 6117703)"
            ]
          },
          "metadata": {}
        },
        {
          "output_type": "stream",
          "name": "stdout",
          "text": [
            "Model saved\n"
          ]
        }
      ]
    },
    {
      "cell_type": "code",
      "source": [
        "converter = tf.lite.TFLiteConverter.from_keras_model(model)\n",
        "tflite_model = converter.convert()\n",
        "with open(\"Lemon-Model.tflite\", 'wb') as f:\n",
        "  f.write(tflite_model)\n",
        "files.download('Lemon-Model.tflite')\n",
        "print(\"Tflite Downloaded\")"
      ],
      "metadata": {
        "colab": {
          "base_uri": "https://localhost:8080/",
          "height": 34
        },
        "id": "n6G79YLyIxxS",
        "outputId": "77a9b945-2c9f-48ce-b4f7-879b29d430d2"
      },
      "execution_count": 20,
      "outputs": [
        {
          "output_type": "display_data",
          "data": {
            "text/plain": [
              "<IPython.core.display.Javascript object>"
            ],
            "application/javascript": [
              "\n",
              "    async function download(id, filename, size) {\n",
              "      if (!google.colab.kernel.accessAllowed) {\n",
              "        return;\n",
              "      }\n",
              "      const div = document.createElement('div');\n",
              "      const label = document.createElement('label');\n",
              "      label.textContent = `Downloading \"${filename}\": `;\n",
              "      div.appendChild(label);\n",
              "      const progress = document.createElement('progress');\n",
              "      progress.max = size;\n",
              "      div.appendChild(progress);\n",
              "      document.body.appendChild(div);\n",
              "\n",
              "      const buffers = [];\n",
              "      let downloaded = 0;\n",
              "\n",
              "      const channel = await google.colab.kernel.comms.open(id);\n",
              "      // Send a message to notify the kernel that we're ready.\n",
              "      channel.send({})\n",
              "\n",
              "      for await (const message of channel.messages) {\n",
              "        // Send a message to notify the kernel that we're ready.\n",
              "        channel.send({})\n",
              "        if (message.buffers) {\n",
              "          for (const buffer of message.buffers) {\n",
              "            buffers.push(buffer);\n",
              "            downloaded += buffer.byteLength;\n",
              "            progress.value = downloaded;\n",
              "          }\n",
              "        }\n",
              "      }\n",
              "      const blob = new Blob(buffers, {type: 'application/binary'});\n",
              "      const a = document.createElement('a');\n",
              "      a.href = window.URL.createObjectURL(blob);\n",
              "      a.download = filename;\n",
              "      div.appendChild(a);\n",
              "      a.click();\n",
              "      div.remove();\n",
              "    }\n",
              "  "
            ]
          },
          "metadata": {}
        },
        {
          "output_type": "display_data",
          "data": {
            "text/plain": [
              "<IPython.core.display.Javascript object>"
            ],
            "application/javascript": [
              "download(\"download_209fcde1-57c4-46be-8a4b-88b5d7ab4952\", \"Lemon-Model.tflite\", 2026940)"
            ]
          },
          "metadata": {}
        },
        {
          "output_type": "stream",
          "name": "stdout",
          "text": [
            "Tflite Downloaded\n"
          ]
        }
      ]
    }
  ]
}